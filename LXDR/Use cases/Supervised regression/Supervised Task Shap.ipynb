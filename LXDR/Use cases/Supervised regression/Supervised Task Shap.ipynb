{
 "cells": [
  {
   "cell_type": "code",
   "execution_count": 1,
   "id": "b8b56dd3",
   "metadata": {},
   "outputs": [],
   "source": [
    "import numpy as np\n",
    "import site, pprint, math, re, numpy\n",
    "from time import time\n",
    "import matplotlib.pyplot as plt\n",
    "import pandas as pd\n",
    "import seaborn as sns\n",
    "import matplotlib.pyplot as plt\n",
    "from sklearn.decomposition import PCA, KernelPCA\n",
    "from sklearn.linear_model import RidgeCV\n",
    "from sklearn.metrics import accuracy_score, f1_score\n",
    "from sklearn.model_selection import train_test_split\n",
    "from sklearn.preprocessing import MinMaxScaler\n",
    "from lxdr import LXDR\n",
    "from sklearn.metrics import mean_absolute_error, r2_score, mean_squared_error\n",
    "from sklearn.metrics.pairwise import cosine_similarity as cd, euclidean_distances as ed\n",
    "import shap"
   ]
  },
  {
   "cell_type": "code",
   "execution_count": 2,
   "id": "0c4cb8ad",
   "metadata": {},
   "outputs": [],
   "source": [
    "from sklearn.datasets import fetch_openml\n",
    "df = fetch_openml(data_id='204')\n",
    "#https://www.openml.org/search?type=data&status=active&id=204"
   ]
  },
  {
   "cell_type": "code",
   "execution_count": 3,
   "id": "983b0a18",
   "metadata": {
    "scrolled": true
   },
   "outputs": [
    {
     "name": "stderr",
     "output_type": "stream",
     "text": [
      "\n",
      "A value is trying to be set on a copy of a slice from a DataFrame.\n",
      "Try using .loc[row_indexer,col_indexer] = value instead\n",
      "\n",
      "See the caveats in the documentation: https://pandas.pydata.org/pandas-docs/stable/user_guide/indexing.html#returning-a-view-versus-a-copy\n",
      "\n",
      "A value is trying to be set on a copy of a slice from a DataFrame.\n",
      "Try using .loc[row_indexer,col_indexer] = value instead\n",
      "\n",
      "See the caveats in the documentation: https://pandas.pydata.org/pandas-docs/stable/user_guide/indexing.html#returning-a-view-versus-a-copy\n",
      "\n",
      "A value is trying to be set on a copy of a slice from a DataFrame.\n",
      "Try using .loc[row_indexer,col_indexer] = value instead\n",
      "\n",
      "See the caveats in the documentation: https://pandas.pydata.org/pandas-docs/stable/user_guide/indexing.html#returning-a-view-versus-a-copy\n",
      "\n",
      "A value is trying to be set on a copy of a slice from a DataFrame.\n",
      "Try using .loc[row_indexer,col_indexer] = value instead\n",
      "\n",
      "See the caveats in the documentation: https://pandas.pydata.org/pandas-docs/stable/user_guide/indexing.html#returning-a-view-versus-a-copy\n",
      "\n",
      "A value is trying to be set on a copy of a slice from a DataFrame.\n",
      "Try using .loc[row_indexer,col_indexer] = value instead\n",
      "\n",
      "See the caveats in the documentation: https://pandas.pydata.org/pandas-docs/stable/user_guide/indexing.html#returning-a-view-versus-a-copy\n",
      "\n",
      "A value is trying to be set on a copy of a slice from a DataFrame.\n",
      "Try using .loc[row_indexer,col_indexer] = value instead\n",
      "\n",
      "See the caveats in the documentation: https://pandas.pydata.org/pandas-docs/stable/user_guide/indexing.html#returning-a-view-versus-a-copy\n",
      "\n",
      "A value is trying to be set on a copy of a slice from a DataFrame.\n",
      "Try using .loc[row_indexer,col_indexer] = value instead\n",
      "\n",
      "See the caveats in the documentation: https://pandas.pydata.org/pandas-docs/stable/user_guide/indexing.html#returning-a-view-versus-a-copy\n"
     ]
    }
   ],
   "source": [
    "df.data[\"sex\"] = df.data[\"sex\"].astype('float')\n",
    "df.data[\"cp\"] = df.data[\"cp\"].astype('float')\n",
    "df.data[\"fbs\"] = df.data[\"fbs\"].astype('float')\n",
    "df.data[\"restecg\"] = df.data[\"restecg\"].astype('float')\n",
    "df.data[\"exang\"] = df.data[\"exang\"].astype('float')\n",
    "df.data[\"slope\"] = df.data[\"slope\"].astype('float')\n",
    "df.data[\"thal\"] = df.data[\"thal\"].replace(float(np.nan), np.nan).astype('float')\n",
    "\n",
    "X = df.data.values\n",
    "y = df.target.values\n",
    "feature_names = df.feature_names\n",
    "target_name = df.target_names"
   ]
  },
  {
   "cell_type": "markdown",
   "id": "8370ff84",
   "metadata": {},
   "source": [
    "We will MinMaxScale our data! We will scale them to 0.1, 1, as 0 woyld nullify the importance of a few features."
   ]
  },
  {
   "cell_type": "code",
   "execution_count": 4,
   "id": "d3757293",
   "metadata": {},
   "outputs": [],
   "source": [
    "from sklearn.impute import SimpleImputer\n",
    "imp = SimpleImputer(missing_values=np.nan, strategy='mean')\n",
    "scaler = MinMaxScaler((0.1,1))"
   ]
  },
  {
   "cell_type": "code",
   "execution_count": 5,
   "id": "05d37506",
   "metadata": {},
   "outputs": [],
   "source": [
    "X_train_o, X_test_o, y_train, y_test = train_test_split(X, y, test_size=0.2, random_state=42)"
   ]
  },
  {
   "cell_type": "code",
   "execution_count": 6,
   "id": "a1c877bd",
   "metadata": {},
   "outputs": [],
   "source": [
    "imp.fit(X_train_o)\n",
    "X_train_o = imp.transform(X_train_o)\n",
    "X_test_o = imp.transform(X_test_o)"
   ]
  },
  {
   "cell_type": "code",
   "execution_count": 7,
   "id": "b02ba7e6",
   "metadata": {
    "scrolled": true
   },
   "outputs": [],
   "source": [
    "scaler.fit(X_train_o)\n",
    "X_train = scaler.transform(X_train_o)\n",
    "X_test = scaler.transform(X_test_o)"
   ]
  },
  {
   "cell_type": "code",
   "execution_count": 8,
   "id": "1bf09422",
   "metadata": {},
   "outputs": [],
   "source": [
    "kpca = KernelPCA(3, kernel='rbf', gamma=0.01, random_state=42)\n",
    "kpca.fit(X_train)\n",
    "kpca_train = kpca.transform(X_train)\n",
    "kpca_test  = kpca.transform(X_test)"
   ]
  },
  {
   "cell_type": "code",
   "execution_count": 9,
   "id": "89539ee3",
   "metadata": {},
   "outputs": [],
   "source": [
    "clf_k = RidgeCV(alphas=(0.01, 100.0, 1.0)).fit(kpca_train, y_train)"
   ]
  },
  {
   "cell_type": "markdown",
   "id": "89df4a9e",
   "metadata": {},
   "source": [
    "And we check the performance, which is slighlty better than the original!"
   ]
  },
  {
   "cell_type": "code",
   "execution_count": 10,
   "id": "1d25bfaa",
   "metadata": {},
   "outputs": [
    {
     "name": "stdout",
     "output_type": "stream",
     "text": [
      "KPCA: 41.909430886377535 60.740649999349934\n"
     ]
    }
   ],
   "source": [
    "mae_k = mean_absolute_error(y_test, clf_k.predict(kpca_test))\n",
    "rmse_k  = mean_squared_error(y_test, clf_k.predict(kpca_test), squared=False)\n",
    "print('KPCA:', mae_k, rmse_k)"
   ]
  },
  {
   "cell_type": "markdown",
   "id": "01b0affa",
   "metadata": {},
   "source": [
    "Now, we will test the faithfulness and truthfulness scores when using SHAP."
   ]
  },
  {
   "cell_type": "code",
   "execution_count": 11,
   "id": "6cda581f",
   "metadata": {},
   "outputs": [],
   "source": [
    "def shap_predict(instance):\n",
    "    kpca_instance = kpca.transform(instance)\n",
    "    return clf_k.predict(kpca_instance)"
   ]
  },
  {
   "cell_type": "markdown",
   "id": "5a04b189",
   "metadata": {},
   "source": [
    "With the default shap parameters"
   ]
  },
  {
   "cell_type": "code",
   "execution_count": 16,
   "id": "3764f4c4",
   "metadata": {
    "scrolled": true
   },
   "outputs": [
    {
     "name": "stderr",
     "output_type": "stream",
     "text": [
      "Using 242 background data samples could cause slower run times. Consider using shap.sample(data, K) or shap.kmeans(data, K) to summarize the background as K samples.\n",
      "  0%|          | 0/61 [00:00<?, ?it/s]l1_reg=\"auto\" is deprecated and in the next version (v0.29) the behavior will change from a conditional use of AIC to simply \"num_features(10)\"!\n",
      "  2%|▏         | 1/61 [00:04<04:06,  4.11s/it]l1_reg=\"auto\" is deprecated and in the next version (v0.29) the behavior will change from a conditional use of AIC to simply \"num_features(10)\"!\n",
      "  3%|▎         | 2/61 [00:08<04:21,  4.44s/it]l1_reg=\"auto\" is deprecated and in the next version (v0.29) the behavior will change from a conditional use of AIC to simply \"num_features(10)\"!\n",
      "  5%|▍         | 3/61 [00:13<04:19,  4.48s/it]l1_reg=\"auto\" is deprecated and in the next version (v0.29) the behavior will change from a conditional use of AIC to simply \"num_features(10)\"!\n",
      "  7%|▋         | 4/61 [00:18<04:22,  4.60s/it]l1_reg=\"auto\" is deprecated and in the next version (v0.29) the behavior will change from a conditional use of AIC to simply \"num_features(10)\"!\n",
      "  8%|▊         | 5/61 [00:22<04:16,  4.58s/it]l1_reg=\"auto\" is deprecated and in the next version (v0.29) the behavior will change from a conditional use of AIC to simply \"num_features(10)\"!\n",
      " 10%|▉         | 6/61 [00:27<04:18,  4.70s/it]l1_reg=\"auto\" is deprecated and in the next version (v0.29) the behavior will change from a conditional use of AIC to simply \"num_features(10)\"!\n",
      " 11%|█▏        | 7/61 [00:32<04:17,  4.77s/it]l1_reg=\"auto\" is deprecated and in the next version (v0.29) the behavior will change from a conditional use of AIC to simply \"num_features(10)\"!\n",
      " 13%|█▎        | 8/61 [00:37<04:09,  4.70s/it]l1_reg=\"auto\" is deprecated and in the next version (v0.29) the behavior will change from a conditional use of AIC to simply \"num_features(10)\"!\n",
      " 15%|█▍        | 9/61 [00:41<04:03,  4.69s/it]l1_reg=\"auto\" is deprecated and in the next version (v0.29) the behavior will change from a conditional use of AIC to simply \"num_features(10)\"!\n",
      " 16%|█▋        | 10/61 [00:45<03:52,  4.57s/it]l1_reg=\"auto\" is deprecated and in the next version (v0.29) the behavior will change from a conditional use of AIC to simply \"num_features(10)\"!\n",
      " 18%|█▊        | 11/61 [00:51<03:55,  4.71s/it]l1_reg=\"auto\" is deprecated and in the next version (v0.29) the behavior will change from a conditional use of AIC to simply \"num_features(10)\"!\n",
      " 20%|█▉        | 12/61 [00:55<03:50,  4.70s/it]l1_reg=\"auto\" is deprecated and in the next version (v0.29) the behavior will change from a conditional use of AIC to simply \"num_features(10)\"!\n",
      " 21%|██▏       | 13/61 [01:00<03:48,  4.77s/it]l1_reg=\"auto\" is deprecated and in the next version (v0.29) the behavior will change from a conditional use of AIC to simply \"num_features(10)\"!\n",
      " 23%|██▎       | 14/61 [01:05<03:49,  4.88s/it]l1_reg=\"auto\" is deprecated and in the next version (v0.29) the behavior will change from a conditional use of AIC to simply \"num_features(10)\"!\n",
      " 25%|██▍       | 15/61 [01:10<03:38,  4.76s/it]l1_reg=\"auto\" is deprecated and in the next version (v0.29) the behavior will change from a conditional use of AIC to simply \"num_features(10)\"!\n",
      " 26%|██▌       | 16/61 [01:14<03:28,  4.63s/it]l1_reg=\"auto\" is deprecated and in the next version (v0.29) the behavior will change from a conditional use of AIC to simply \"num_features(10)\"!\n",
      " 28%|██▊       | 17/61 [01:19<03:22,  4.61s/it]l1_reg=\"auto\" is deprecated and in the next version (v0.29) the behavior will change from a conditional use of AIC to simply \"num_features(10)\"!\n",
      " 30%|██▉       | 18/61 [01:23<03:17,  4.60s/it]l1_reg=\"auto\" is deprecated and in the next version (v0.29) the behavior will change from a conditional use of AIC to simply \"num_features(10)\"!\n",
      " 31%|███       | 19/61 [01:28<03:15,  4.66s/it]l1_reg=\"auto\" is deprecated and in the next version (v0.29) the behavior will change from a conditional use of AIC to simply \"num_features(10)\"!\n",
      " 33%|███▎      | 20/61 [01:33<03:16,  4.78s/it]l1_reg=\"auto\" is deprecated and in the next version (v0.29) the behavior will change from a conditional use of AIC to simply \"num_features(10)\"!\n",
      " 34%|███▍      | 21/61 [01:38<03:07,  4.70s/it]l1_reg=\"auto\" is deprecated and in the next version (v0.29) the behavior will change from a conditional use of AIC to simply \"num_features(10)\"!\n",
      " 36%|███▌      | 22/61 [01:42<03:03,  4.69s/it]l1_reg=\"auto\" is deprecated and in the next version (v0.29) the behavior will change from a conditional use of AIC to simply \"num_features(10)\"!\n",
      " 38%|███▊      | 23/61 [01:47<02:53,  4.56s/it]l1_reg=\"auto\" is deprecated and in the next version (v0.29) the behavior will change from a conditional use of AIC to simply \"num_features(10)\"!\n",
      " 39%|███▉      | 24/61 [01:51<02:52,  4.67s/it]l1_reg=\"auto\" is deprecated and in the next version (v0.29) the behavior will change from a conditional use of AIC to simply \"num_features(10)\"!\n",
      " 41%|████      | 25/61 [01:56<02:48,  4.68s/it]l1_reg=\"auto\" is deprecated and in the next version (v0.29) the behavior will change from a conditional use of AIC to simply \"num_features(10)\"!\n",
      " 43%|████▎     | 26/61 [02:01<02:47,  4.79s/it]l1_reg=\"auto\" is deprecated and in the next version (v0.29) the behavior will change from a conditional use of AIC to simply \"num_features(10)\"!\n",
      " 44%|████▍     | 27/61 [02:06<02:44,  4.84s/it]l1_reg=\"auto\" is deprecated and in the next version (v0.29) the behavior will change from a conditional use of AIC to simply \"num_features(10)\"!\n",
      " 46%|████▌     | 28/61 [02:11<02:37,  4.78s/it]l1_reg=\"auto\" is deprecated and in the next version (v0.29) the behavior will change from a conditional use of AIC to simply \"num_features(10)\"!\n",
      " 48%|████▊     | 29/61 [02:15<02:29,  4.67s/it]l1_reg=\"auto\" is deprecated and in the next version (v0.29) the behavior will change from a conditional use of AIC to simply \"num_features(10)\"!\n",
      " 49%|████▉     | 30/61 [02:20<02:23,  4.63s/it]l1_reg=\"auto\" is deprecated and in the next version (v0.29) the behavior will change from a conditional use of AIC to simply \"num_features(10)\"!\n",
      " 51%|█████     | 31/61 [02:24<02:18,  4.60s/it]l1_reg=\"auto\" is deprecated and in the next version (v0.29) the behavior will change from a conditional use of AIC to simply \"num_features(10)\"!\n",
      " 52%|█████▏    | 32/61 [02:29<02:15,  4.68s/it]l1_reg=\"auto\" is deprecated and in the next version (v0.29) the behavior will change from a conditional use of AIC to simply \"num_features(10)\"!\n",
      " 54%|█████▍    | 33/61 [02:34<02:11,  4.68s/it]l1_reg=\"auto\" is deprecated and in the next version (v0.29) the behavior will change from a conditional use of AIC to simply \"num_features(10)\"!\n",
      " 56%|█████▌    | 34/61 [02:38<02:05,  4.66s/it]l1_reg=\"auto\" is deprecated and in the next version (v0.29) the behavior will change from a conditional use of AIC to simply \"num_features(10)\"!\n",
      " 57%|█████▋    | 35/61 [02:43<02:00,  4.63s/it]l1_reg=\"auto\" is deprecated and in the next version (v0.29) the behavior will change from a conditional use of AIC to simply \"num_features(10)\"!\n",
      " 59%|█████▉    | 36/61 [02:47<01:53,  4.53s/it]l1_reg=\"auto\" is deprecated and in the next version (v0.29) the behavior will change from a conditional use of AIC to simply \"num_features(10)\"!\n",
      " 61%|██████    | 37/61 [02:52<01:50,  4.60s/it]l1_reg=\"auto\" is deprecated and in the next version (v0.29) the behavior will change from a conditional use of AIC to simply \"num_features(10)\"!\n",
      " 62%|██████▏   | 38/61 [02:57<01:45,  4.58s/it]l1_reg=\"auto\" is deprecated and in the next version (v0.29) the behavior will change from a conditional use of AIC to simply \"num_features(10)\"!\n",
      " 64%|██████▍   | 39/61 [03:01<01:42,  4.68s/it]l1_reg=\"auto\" is deprecated and in the next version (v0.29) the behavior will change from a conditional use of AIC to simply \"num_features(10)\"!\n",
      " 66%|██████▌   | 40/61 [03:06<01:39,  4.74s/it]l1_reg=\"auto\" is deprecated and in the next version (v0.29) the behavior will change from a conditional use of AIC to simply \"num_features(10)\"!\n",
      " 67%|██████▋   | 41/61 [03:11<01:33,  4.67s/it]l1_reg=\"auto\" is deprecated and in the next version (v0.29) the behavior will change from a conditional use of AIC to simply \"num_features(10)\"!\n",
      " 69%|██████▉   | 42/61 [03:16<01:28,  4.66s/it]l1_reg=\"auto\" is deprecated and in the next version (v0.29) the behavior will change from a conditional use of AIC to simply \"num_features(10)\"!\n",
      " 70%|███████   | 43/61 [03:20<01:21,  4.54s/it]l1_reg=\"auto\" is deprecated and in the next version (v0.29) the behavior will change from a conditional use of AIC to simply \"num_features(10)\"!\n",
      " 72%|███████▏  | 44/61 [03:25<01:20,  4.71s/it]l1_reg=\"auto\" is deprecated and in the next version (v0.29) the behavior will change from a conditional use of AIC to simply \"num_features(10)\"!\n",
      " 74%|███████▍  | 45/61 [03:30<01:16,  4.78s/it]l1_reg=\"auto\" is deprecated and in the next version (v0.29) the behavior will change from a conditional use of AIC to simply \"num_features(10)\"!\n",
      " 75%|███████▌  | 46/61 [03:35<01:11,  4.79s/it]l1_reg=\"auto\" is deprecated and in the next version (v0.29) the behavior will change from a conditional use of AIC to simply \"num_features(10)\"!\n",
      " 77%|███████▋  | 47/61 [03:39<01:06,  4.75s/it]l1_reg=\"auto\" is deprecated and in the next version (v0.29) the behavior will change from a conditional use of AIC to simply \"num_features(10)\"!\n",
      " 79%|███████▊  | 48/61 [03:44<01:01,  4.70s/it]l1_reg=\"auto\" is deprecated and in the next version (v0.29) the behavior will change from a conditional use of AIC to simply \"num_features(10)\"!\n",
      " 80%|████████  | 49/61 [03:48<00:55,  4.64s/it]l1_reg=\"auto\" is deprecated and in the next version (v0.29) the behavior will change from a conditional use of AIC to simply \"num_features(10)\"!\n",
      " 82%|████████▏ | 50/61 [03:53<00:50,  4.61s/it]l1_reg=\"auto\" is deprecated and in the next version (v0.29) the behavior will change from a conditional use of AIC to simply \"num_features(10)\"!\n",
      " 84%|████████▎ | 51/61 [03:58<00:46,  4.62s/it]l1_reg=\"auto\" is deprecated and in the next version (v0.29) the behavior will change from a conditional use of AIC to simply \"num_features(10)\"!\n",
      " 85%|████████▌ | 52/61 [04:03<00:42,  4.76s/it]l1_reg=\"auto\" is deprecated and in the next version (v0.29) the behavior will change from a conditional use of AIC to simply \"num_features(10)\"!\n",
      " 87%|████████▋ | 53/61 [04:08<00:39,  4.88s/it]l1_reg=\"auto\" is deprecated and in the next version (v0.29) the behavior will change from a conditional use of AIC to simply \"num_features(10)\"!\n",
      " 89%|████████▊ | 54/61 [04:12<00:33,  4.82s/it]l1_reg=\"auto\" is deprecated and in the next version (v0.29) the behavior will change from a conditional use of AIC to simply \"num_features(10)\"!\n",
      " 90%|█████████ | 55/61 [04:17<00:28,  4.76s/it]l1_reg=\"auto\" is deprecated and in the next version (v0.29) the behavior will change from a conditional use of AIC to simply \"num_features(10)\"!\n",
      " 92%|█████████▏| 56/61 [04:21<00:23,  4.62s/it]l1_reg=\"auto\" is deprecated and in the next version (v0.29) the behavior will change from a conditional use of AIC to simply \"num_features(10)\"!\n",
      " 93%|█████████▎| 57/61 [04:26<00:19,  4.75s/it]l1_reg=\"auto\" is deprecated and in the next version (v0.29) the behavior will change from a conditional use of AIC to simply \"num_features(10)\"!\n",
      " 95%|█████████▌| 58/61 [04:31<00:14,  4.80s/it]l1_reg=\"auto\" is deprecated and in the next version (v0.29) the behavior will change from a conditional use of AIC to simply \"num_features(10)\"!\n",
      " 97%|█████████▋| 59/61 [04:36<00:09,  4.83s/it]l1_reg=\"auto\" is deprecated and in the next version (v0.29) the behavior will change from a conditional use of AIC to simply \"num_features(10)\"!\n",
      " 98%|█████████▊| 60/61 [04:41<00:04,  4.78s/it]l1_reg=\"auto\" is deprecated and in the next version (v0.29) the behavior will change from a conditional use of AIC to simply \"num_features(10)\"!\n",
      "100%|██████████| 61/61 [04:45<00:00,  4.69s/it]"
     ]
    },
    {
     "name": "stdout",
     "output_type": "stream",
     "text": [
      "7.7533 nan 0.4729\n"
     ]
    },
    {
     "name": "stderr",
     "output_type": "stream",
     "text": [
      "\n",
      "Mean of empty slice.\n",
      "invalid value encountered in double_scalars\n"
     ]
    }
   ],
   "source": [
    "pred = clf_k.predict(kpca_test)\n",
    "avg_faith = []\n",
    "avg_truth = []\n",
    "avg_instance_diff = []\n",
    "\n",
    "explanation = shap.KernelExplainer(shap_predict, X_train)\n",
    "for sample in tqdm.tqdm(range(len(X_test))):\n",
    "    a = explanation.shap_values(np.array(X_test[sample]))\n",
    "\n",
    "    #Faith:\n",
    "    ma = np.aargmax(a)\n",
    "    temp_sample = X_test[sample].copy()\n",
    "    if temp_sample[ma] > 0:\n",
    "        temp_sample[ma] = 0\n",
    "        w = 1\n",
    "    elif temp_sample[ma] < 0:\n",
    "        temp_sample[ma] = 0\n",
    "        w = -1\n",
    "    elif temp_sample[ma] == 0:\n",
    "        temp_sample[ma] = 1\n",
    "        w = -1\n",
    "    kpca_sample = kpca.transform([temp_sample])\n",
    "    temp_pred = clf_k.predict(kpca_sample)[0]\n",
    "    if a[ma] > 0:\n",
    "        avg_faith.append(w*(pred[sample]-temp_pred))\n",
    "    elif a[ma] < 0:\n",
    "        avg_faith.append(w*(temp_pred-pred[sample]))\n",
    "    else:\n",
    "        avg_faith.append((-1)*abs(w*(temp_pred-pred[sample])))       \n",
    "\n",
    "    #Truth:\n",
    "    truth = []\n",
    "    for k in range(len(X_test[sample])):\n",
    "        temp_sample = X_test[sample].copy()\n",
    "        if temp_sample[k] > 0:\n",
    "            temp_sample[k] = 0\n",
    "            w = 1\n",
    "        elif temp_sample[k] < 0:\n",
    "            temp_sample[k] = 0\n",
    "            w = -1\n",
    "        elif temp_sample[k] == 0:\n",
    "            temp_sample[k] = 1\n",
    "            w = -1\n",
    "        kpca_sample = kpca.transform([temp_sample])\n",
    "        temp_pred = clf_k.predict(kpca_sample)[0]\n",
    "        if a[k] > 0 and w*(pred[sample]-temp_pred)>0:\n",
    "            truth.append(1)\n",
    "        elif a[k] < 0 and w*(pred[sample]-temp_pred)<0:\n",
    "            truth.append(1)\n",
    "        elif a[k] == 0 and pred[sample]==temp_pred:\n",
    "            truth.append(1)\n",
    "\n",
    "    avg_truth.append(np.array(truth).sum()/len(X_test[sample]))\n",
    "print(round(np.array(avg_faith).mean(),4), round(np.array(avg_instance_diff).mean(),4), round(np.array(avg_truth).mean(),4))"
   ]
  },
  {
   "cell_type": "code",
   "execution_count": null,
   "id": "43486136",
   "metadata": {},
   "outputs": [],
   "source": []
  }
 ],
 "metadata": {
  "kernelspec": {
   "display_name": "Python 3",
   "language": "python",
   "name": "python3"
  },
  "language_info": {
   "codemirror_mode": {
    "name": "ipython",
    "version": 3
   },
   "file_extension": ".py",
   "mimetype": "text/x-python",
   "name": "python",
   "nbconvert_exporter": "python",
   "pygments_lexer": "ipython3",
   "version": "3.7.8"
  }
 },
 "nbformat": 4,
 "nbformat_minor": 5
}
