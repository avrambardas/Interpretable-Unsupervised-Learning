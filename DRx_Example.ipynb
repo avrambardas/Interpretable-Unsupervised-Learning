{
  "nbformat": 4,
  "nbformat_minor": 0,
  "metadata": {
    "colab": {
      "name": "DRx_Documentation.ipynb",
      "provenance": []
    },
    "kernelspec": {
      "name": "python3",
      "display_name": "Python 3"
    },
    "language_info": {
      "name": "python"
    }
  },
  "cells": [
    {
      "cell_type": "markdown",
      "source": [
        "# DRx class details\n",
        "\n",
        "**Class DRx(dimensionality_reduction_model, feature_names, initial_data)**\n",
        "\n",
        "**Parameters:**\n",
        "\n",
        "\n",
        "\n",
        "*   **dimensionality_reduction_model:** model used to dimensionally reduce the data (should be fitted on the initial dataset prior the object creation).\n",
        "*   **feature_names:** The names of the dataset columns.\n",
        "*   **initial_data:** 2d array contaning the orgina dataset\n",
        "\n",
        "**Methods**\n",
        "\n",
        "\n",
        "\n",
        "*   **explain_instance(instance, number_of_neghbours, auto_alpha, use_LIME)** Provides us with the weights needed for the explanations.\n",
        "\n",
        "\n",
        "*   **find_reconstruction_error(data, number_of_neighbours, auto_alpha, use_LIME,use_mean, normalised)** Prints mean absolute error, cosine error, euclidean error between the reduced data extracted through DRx and the dimensionality reduction technique.\n",
        "\n",
        "\n",
        "*   **find_weights_error(data, number_of_neighbours, auto_alpha, use_LIME, normalised)** This function only works when the dimensionality reduction technique is able to return weights per each component. Prints mean absolute error, cosine error, euclidean error between the weigths created through DRx, and weights extracted through the dimensionality reduction technique.\n",
        "\n",
        "*   **visualise_weights(instance, dimension, number_of_neighbours,auto_alpha, use_LIME, normalised)** This function only works when the dimensionality reduction technique is able to return weights per each component. Creates a plot that compares weights extracted from DRx and the dimensionality reduction technique, of a particular dimension of the instance.\n",
        "\n",
        "\n",
        "*   **visualise_reconstructed(instance, number_of_neighbours, auto_alpha, use_LIME, use_mean, normalised)** Reconstructs the dimensionally reduced data throught the weights extracted from DRx, and compares them with the dimensionally reduced data given from the dimensionality reduction technique for a particular instance.\n",
        "\n",
        "*   **create_heatmap(instance, number_of_neighbours, auto_alpha, use_LIME, normalised)** Plots a Heatmap showing the difference between weigths extracted through DRx and weigths extracted from the dimensionality reduction technique, for a particular instance.\n",
        "\n",
        "*   **get_feature_importance(instance, number_of_neighbours, auto_alpha, use_LIME, use_mean, normalised)** Creates and prints an array shaped (N_features, N_reduced_features) where for each reduced features, highlights the original feature that contributed the most to its creation.\n",
        "\n",
        "**Variables**\n",
        "\n",
        "*   **number_of_neighbours**: int, the number of neighours we want to use to achieve the local interpretation. If 'auto' the number will be chosen depending on the dataset. \n",
        "\n",
        "*   **auto_alpha**: boolean, if True, function best_alpha will be used to find most suitable alpha for the linear model. If False, default value of alpha will be used (alpha=1.0). \n",
        "\n",
        "*   **use_LIME**: boolean, if True, function give_me_the_neighbourhood of LimeTabularExplainer is used for the neighbourhood extraction. If False, sklearn NearestNeighbors() will be used. \n",
        "\n",
        "*   **use_mean**: boolean, if True, mean value of the data will be subtracted for each instance. \n",
        "\n",
        "*   **normalised**: boolean, if True, data will be divided with the absolute max value of the data.\n",
        "\n",
        "\n",
        "\n",
        "\n"
      ],
      "metadata": {
        "id": "g6ab8IwyBsjE"
      }
    },
    {
      "cell_type": "markdown",
      "source": [
        "# Code Example"
      ],
      "metadata": {
        "id": "aOlUQD-EI9t_"
      }
    },
    {
      "cell_type": "markdown",
      "source": [
        "## Imports"
      ],
      "metadata": {
        "id": "HO_IHxnxJZRj"
      }
    },
    {
      "cell_type": "code",
      "execution_count": 11,
      "metadata": {
        "id": "mxdQ55JVBlSA"
      },
      "outputs": [],
      "source": [
        "import math\n",
        "import numpy as np\n",
        "import pandas as pd\n",
        "from sklearn import datasets\n",
        "import matplotlib.pyplot as plt\n",
        "from sklearn.decomposition import PCA\n",
        "from sklearn.linear_model import Ridge\n",
        "from sklearn.model_selection import train_test_split"
      ]
    },
    {
      "cell_type": "markdown",
      "source": [
        "## Lime installation"
      ],
      "metadata": {
        "id": "Vzjj8Rr5Jnj1"
      }
    },
    {
      "cell_type": "code",
      "source": [
        "!pip install lime==0.2.0.1"
      ],
      "metadata": {
        "colab": {
          "base_uri": "https://localhost:8080/"
        },
        "id": "MIMhyOp4Jij8",
        "outputId": "0a8e6ad7-7d7d-4954-d453-5556f3233604"
      },
      "execution_count": 2,
      "outputs": [
        {
          "output_type": "stream",
          "name": "stdout",
          "text": [
            "Collecting lime==0.2.0.1\n",
            "  Downloading lime-0.2.0.1.tar.gz (275 kB)\n",
            "\u001b[?25l\r\u001b[K     |█▏                              | 10 kB 8.1 MB/s eta 0:00:01\r\u001b[K     |██▍                             | 20 kB 12.1 MB/s eta 0:00:01\r\u001b[K     |███▋                            | 30 kB 10.1 MB/s eta 0:00:01\r\u001b[K     |████▊                           | 40 kB 3.9 MB/s eta 0:00:01\r\u001b[K     |██████                          | 51 kB 3.9 MB/s eta 0:00:01\r\u001b[K     |███████▏                        | 61 kB 4.6 MB/s eta 0:00:01\r\u001b[K     |████████▎                       | 71 kB 4.7 MB/s eta 0:00:01\r\u001b[K     |█████████▌                      | 81 kB 5.1 MB/s eta 0:00:01\r\u001b[K     |██████████▊                     | 92 kB 5.6 MB/s eta 0:00:01\r\u001b[K     |███████████▉                    | 102 kB 4.4 MB/s eta 0:00:01\r\u001b[K     |█████████████                   | 112 kB 4.4 MB/s eta 0:00:01\r\u001b[K     |██████████████▎                 | 122 kB 4.4 MB/s eta 0:00:01\r\u001b[K     |███████████████▌                | 133 kB 4.4 MB/s eta 0:00:01\r\u001b[K     |████████████████▋               | 143 kB 4.4 MB/s eta 0:00:01\r\u001b[K     |█████████████████▉              | 153 kB 4.4 MB/s eta 0:00:01\r\u001b[K     |███████████████████             | 163 kB 4.4 MB/s eta 0:00:01\r\u001b[K     |████████████████████▏           | 174 kB 4.4 MB/s eta 0:00:01\r\u001b[K     |█████████████████████▍          | 184 kB 4.4 MB/s eta 0:00:01\r\u001b[K     |██████████████████████▋         | 194 kB 4.4 MB/s eta 0:00:01\r\u001b[K     |███████████████████████▊        | 204 kB 4.4 MB/s eta 0:00:01\r\u001b[K     |█████████████████████████       | 215 kB 4.4 MB/s eta 0:00:01\r\u001b[K     |██████████████████████████▏     | 225 kB 4.4 MB/s eta 0:00:01\r\u001b[K     |███████████████████████████▍    | 235 kB 4.4 MB/s eta 0:00:01\r\u001b[K     |████████████████████████████▌   | 245 kB 4.4 MB/s eta 0:00:01\r\u001b[K     |█████████████████████████████▊  | 256 kB 4.4 MB/s eta 0:00:01\r\u001b[K     |███████████████████████████████ | 266 kB 4.4 MB/s eta 0:00:01\r\u001b[K     |████████████████████████████████| 275 kB 4.4 MB/s \n",
            "\u001b[?25hRequirement already satisfied: matplotlib in /usr/local/lib/python3.7/dist-packages (from lime==0.2.0.1) (3.2.2)\n",
            "Requirement already satisfied: numpy in /usr/local/lib/python3.7/dist-packages (from lime==0.2.0.1) (1.21.5)\n",
            "Requirement already satisfied: scipy in /usr/local/lib/python3.7/dist-packages (from lime==0.2.0.1) (1.4.1)\n",
            "Requirement already satisfied: tqdm in /usr/local/lib/python3.7/dist-packages (from lime==0.2.0.1) (4.63.0)\n",
            "Requirement already satisfied: scikit-learn>=0.18 in /usr/local/lib/python3.7/dist-packages (from lime==0.2.0.1) (1.0.2)\n",
            "Requirement already satisfied: scikit-image>=0.12 in /usr/local/lib/python3.7/dist-packages (from lime==0.2.0.1) (0.18.3)\n",
            "Requirement already satisfied: networkx>=2.0 in /usr/local/lib/python3.7/dist-packages (from scikit-image>=0.12->lime==0.2.0.1) (2.6.3)\n",
            "Requirement already satisfied: PyWavelets>=1.1.1 in /usr/local/lib/python3.7/dist-packages (from scikit-image>=0.12->lime==0.2.0.1) (1.2.0)\n",
            "Requirement already satisfied: pillow!=7.1.0,!=7.1.1,>=4.3.0 in /usr/local/lib/python3.7/dist-packages (from scikit-image>=0.12->lime==0.2.0.1) (7.1.2)\n",
            "Requirement already satisfied: tifffile>=2019.7.26 in /usr/local/lib/python3.7/dist-packages (from scikit-image>=0.12->lime==0.2.0.1) (2021.11.2)\n",
            "Requirement already satisfied: imageio>=2.3.0 in /usr/local/lib/python3.7/dist-packages (from scikit-image>=0.12->lime==0.2.0.1) (2.4.1)\n",
            "Requirement already satisfied: cycler>=0.10 in /usr/local/lib/python3.7/dist-packages (from matplotlib->lime==0.2.0.1) (0.11.0)\n",
            "Requirement already satisfied: pyparsing!=2.0.4,!=2.1.2,!=2.1.6,>=2.0.1 in /usr/local/lib/python3.7/dist-packages (from matplotlib->lime==0.2.0.1) (3.0.7)\n",
            "Requirement already satisfied: kiwisolver>=1.0.1 in /usr/local/lib/python3.7/dist-packages (from matplotlib->lime==0.2.0.1) (1.3.2)\n",
            "Requirement already satisfied: python-dateutil>=2.1 in /usr/local/lib/python3.7/dist-packages (from matplotlib->lime==0.2.0.1) (2.8.2)\n",
            "Requirement already satisfied: six>=1.5 in /usr/local/lib/python3.7/dist-packages (from python-dateutil>=2.1->matplotlib->lime==0.2.0.1) (1.15.0)\n",
            "Requirement already satisfied: threadpoolctl>=2.0.0 in /usr/local/lib/python3.7/dist-packages (from scikit-learn>=0.18->lime==0.2.0.1) (3.1.0)\n",
            "Requirement already satisfied: joblib>=0.11 in /usr/local/lib/python3.7/dist-packages (from scikit-learn>=0.18->lime==0.2.0.1) (1.1.0)\n",
            "Building wheels for collected packages: lime\n",
            "  Building wheel for lime (setup.py) ... \u001b[?25l\u001b[?25hdone\n",
            "  Created wheel for lime: filename=lime-0.2.0.1-py3-none-any.whl size=283857 sha256=e68326bf96178a59da78116af8c3adef7b3cd525929c8ed4ef80150eed3217a7\n",
            "  Stored in directory: /root/.cache/pip/wheels/ca/cb/e5/ac701e12d365a08917bf4c6171c0961bc880a8181359c66aa7\n",
            "Successfully built lime\n",
            "Installing collected packages: lime\n",
            "Successfully installed lime-0.2.0.1\n"
          ]
        }
      ]
    },
    {
      "cell_type": "markdown",
      "source": [
        "## lime_tabular\n",
        "\n",
        "In order to take advantage of LIME neighborhood generation, lime_tabular.py shall be moved into lime's file directory. This can be done by running the code bellow."
      ],
      "metadata": {
        "id": "Dr62r8doJsO3"
      }
    },
    {
      "cell_type": "code",
      "source": [
        "!mv lime_tabular.py /usr/local/lib/python3.7/dist-packages/lime/"
      ],
      "metadata": {
        "id": "3jnGIJdZJkn5"
      },
      "execution_count": 3,
      "outputs": []
    },
    {
      "cell_type": "markdown",
      "source": [
        "## Load the dataset\n",
        "\n",
        "For this example we will use the diabetes dataset and PCA as a dimensionality reduction technique. Since PCA is interpretable, it will give us the ability to compare the results of DRx with the ground truth."
      ],
      "metadata": {
        "id": "EMz3mOPXK80B"
      }
    },
    {
      "cell_type": "code",
      "source": [
        "#Load data\n",
        "diabetes = datasets.load_diabetes()\n",
        "initial_data = diabetes.data\n",
        "initial_predictions = diabetes.target\n",
        "feature_names = diabetes.feature_names\n",
        "\n",
        "#train_test_split the data (80%-20%)\n",
        "X_train, X_test, y_train, y_test = train_test_split(\n",
        "     initial_data, initial_predictions, test_size=0.2, random_state=42)\n",
        "\n",
        "# initialize and fit PCA\n",
        "pca = PCA(n_components=8)\n",
        "pca.fit(initial_data)\n",
        "\n",
        "#reduce dimensions from 10 to 8 on both train and test sets\n",
        "X_train_reduced = pca.transform(X_train)\n",
        "X_test_reduced = pca.transform(X_test)\n",
        "\n",
        "X_test_reduced[1]"
      ],
      "metadata": {
        "colab": {
          "base_uri": "https://localhost:8080/"
        },
        "id": "PrbHi7NsKgL5",
        "outputId": "86c26573-b974-4a97-ecce-97df307160ee"
      },
      "execution_count": 4,
      "outputs": [
        {
          "output_type": "execute_result",
          "data": {
            "text/plain": [
              "array([-0.01830892, -0.00379885,  0.08204992,  0.00632399, -0.06140154,\n",
              "       -0.06166935, -0.02689931, -0.01348123])"
            ]
          },
          "metadata": {},
          "execution_count": 4
        }
      ]
    },
    {
      "cell_type": "markdown",
      "source": [
        "Above we can see the reduced representation of the first instance of the test set. The dimensions were reduced from 10 to 8 (components). Since PCA is interpretable, it provides us with weights that can be utilized in order to find out which of the original features contributed the most for the creation of each component.\n",
        "\n",
        "Nevertheless, this is not always the case, since most of DR techniques do not provide such information. This is why a technique like DRx is needed in order to provide this kind of interpretations.\n",
        "\n",
        "In the rest of this notebook we will have a look on how DRx and its methos can be applied to solve the interpretability issue."
      ],
      "metadata": {
        "id": "Et7vgoB7MRvD"
      }
    },
    {
      "cell_type": "markdown",
      "source": [
        "## Introducing DRx\n",
        "\n",
        "Lets create an object of DRx class, and give it pca as dimensionality reduction technique, as well as the dataset and the features names of the dataset (everything was defined in the previous cell)\n",
        "\n",
        "For the cells below, we will use for simplicity the parameters (number_of_neighbours=50, auto_alpha=True, use_LIME=True, use_mean=True, normalised=True). \n",
        "\n",
        "These parameter values work well in most cases, although parameter tuning is suggested for potentially better results depending on the dataset.\n",
        "\n"
      ],
      "metadata": {
        "id": "n2DE8FU0P_9L"
      }
    },
    {
      "cell_type": "code",
      "source": [
        "from DRx import DRx\n",
        "DRx_obj = DRx(pca, feature_names, initial_data)"
      ],
      "metadata": {
        "id": "cZ-lqdNmP7KG"
      },
      "execution_count": 5,
      "outputs": []
    },
    {
      "cell_type": "markdown",
      "source": [
        "## Feature Importance\n",
        "\n",
        "In the table below, DRx provides us with the amount of influence each feature had for the generation of the reduced space data. Each column represents one of the 8 components and each row represents one of the 10 features. Each highlighted cell tells us which feature contributed the most. \n",
        "\n",
        "For example the highlighted cell (0,0) tells us that the first feature was the one that contributed the most on the fisrt component."
      ],
      "metadata": {
        "id": "oBCqyj1ushbD"
      }
    },
    {
      "cell_type": "code",
      "source": [
        "DRx_obj.get_feature_importance(X_test[1], number_of_neighbours=50, auto_alpha=True, use_LIME=True, use_mean=True, normalised=True)"
      ],
      "metadata": {
        "colab": {
          "base_uri": "https://localhost:8080/",
          "height": 363
        },
        "id": "03G56T-isWZo",
        "outputId": "944b479d-e555-4ac2-f829-960de1f68b5e"
      },
      "execution_count": 6,
      "outputs": [
        {
          "output_type": "display_data",
          "data": {
            "text/plain": [
              "<pandas.io.formats.style.Styler at 0x7f74303d1c90>"
            ],
            "text/html": [
              "<style type=\"text/css\">\n",
              "#T_d053a_row0_col0, #T_d053a_row0_col2, #T_d053a_row0_col3, #T_d053a_row0_col4, #T_d053a_row0_col5, #T_d053a_row1_col1, #T_d053a_row1_col7, #T_d053a_row2_col6 {\n",
              "  background-color: green;\n",
              "}\n",
              "</style>\n",
              "<table id=\"T_d053a_\" class=\"dataframe\">\n",
              "  <thead>\n",
              "    <tr>\n",
              "      <th class=\"blank level0\" >&nbsp;</th>\n",
              "      <th class=\"col_heading level0 col0\" >0</th>\n",
              "      <th class=\"col_heading level0 col1\" >1</th>\n",
              "      <th class=\"col_heading level0 col2\" >2</th>\n",
              "      <th class=\"col_heading level0 col3\" >3</th>\n",
              "      <th class=\"col_heading level0 col4\" >4</th>\n",
              "      <th class=\"col_heading level0 col5\" >5</th>\n",
              "      <th class=\"col_heading level0 col6\" >6</th>\n",
              "      <th class=\"col_heading level0 col7\" >7</th>\n",
              "    </tr>\n",
              "  </thead>\n",
              "  <tbody>\n",
              "    <tr>\n",
              "      <th id=\"T_d053a_level0_row0\" class=\"row_heading level0 row0\" >0</th>\n",
              "      <td id=\"T_d053a_row0_col0\" class=\"data row0 col0\" >0.047022</td>\n",
              "      <td id=\"T_d053a_row0_col1\" class=\"data row0 col1\" >0.006596</td>\n",
              "      <td id=\"T_d053a_row0_col2\" class=\"data row0 col2\" >0.090016</td>\n",
              "      <td id=\"T_d053a_row0_col3\" class=\"data row0 col3\" >0.056078</td>\n",
              "      <td id=\"T_d053a_row0_col4\" class=\"data row0 col4\" >0.092564</td>\n",
              "      <td id=\"T_d053a_row0_col5\" class=\"data row0 col5\" >0.026289</td>\n",
              "      <td id=\"T_d053a_row0_col6\" class=\"data row0 col6\" >0.016153</td>\n",
              "      <td id=\"T_d053a_row0_col7\" class=\"data row0 col7\" >0.003237</td>\n",
              "    </tr>\n",
              "    <tr>\n",
              "      <th id=\"T_d053a_level0_row1\" class=\"row_heading level0 row1\" >1</th>\n",
              "      <td id=\"T_d053a_row1_col0\" class=\"data row1 col0\" >0.019707</td>\n",
              "      <td id=\"T_d053a_row1_col1\" class=\"data row1 col1\" >0.029748</td>\n",
              "      <td id=\"T_d053a_row1_col2\" class=\"data row1 col2\" >0.010152</td>\n",
              "      <td id=\"T_d053a_row1_col3\" class=\"data row1 col3\" >0.044642</td>\n",
              "      <td id=\"T_d053a_row1_col4\" class=\"data row1 col4\" >0.023776</td>\n",
              "      <td id=\"T_d053a_row1_col5\" class=\"data row1 col5\" >0.002101</td>\n",
              "      <td id=\"T_d053a_row1_col6\" class=\"data row1 col6\" >0.003771</td>\n",
              "      <td id=\"T_d053a_row1_col7\" class=\"data row1 col7\" >0.041883</td>\n",
              "    </tr>\n",
              "    <tr>\n",
              "      <th id=\"T_d053a_level0_row2\" class=\"row_heading level0 row2\" >2</th>\n",
              "      <td id=\"T_d053a_row2_col0\" class=\"data row2 col0\" >0.026337</td>\n",
              "      <td id=\"T_d053a_row2_col1\" class=\"data row2 col1\" >0.009934</td>\n",
              "      <td id=\"T_d053a_row2_col2\" class=\"data row2 col2\" >0.012038</td>\n",
              "      <td id=\"T_d053a_row2_col3\" class=\"data row2 col3\" >0.027281</td>\n",
              "      <td id=\"T_d053a_row2_col4\" class=\"data row2 col4\" >0.006617</td>\n",
              "      <td id=\"T_d053a_row2_col5\" class=\"data row2 col5\" >0.019009</td>\n",
              "      <td id=\"T_d053a_row2_col6\" class=\"data row2 col6\" >0.029662</td>\n",
              "      <td id=\"T_d053a_row2_col7\" class=\"data row2 col7\" >0.030153</td>\n",
              "    </tr>\n",
              "    <tr>\n",
              "      <th id=\"T_d053a_level0_row3\" class=\"row_heading level0 row3\" >3</th>\n",
              "      <td id=\"T_d053a_row3_col0\" class=\"data row3 col0\" >0.013997</td>\n",
              "      <td id=\"T_d053a_row3_col1\" class=\"data row3 col1\" >0.005076</td>\n",
              "      <td id=\"T_d053a_row3_col2\" class=\"data row3 col2\" >0.021872</td>\n",
              "      <td id=\"T_d053a_row3_col3\" class=\"data row3 col3\" >0.000496</td>\n",
              "      <td id=\"T_d053a_row3_col4\" class=\"data row3 col4\" >0.015425</td>\n",
              "      <td id=\"T_d053a_row3_col5\" class=\"data row3 col5\" >0.007677</td>\n",
              "      <td id=\"T_d053a_row3_col6\" class=\"data row3 col6\" >0.011099</td>\n",
              "      <td id=\"T_d053a_row3_col7\" class=\"data row3 col7\" >0.021872</td>\n",
              "    </tr>\n",
              "    <tr>\n",
              "      <th id=\"T_d053a_level0_row4\" class=\"row_heading level0 row4\" >4</th>\n",
              "      <td id=\"T_d053a_row4_col0\" class=\"data row4 col0\" >0.020063</td>\n",
              "      <td id=\"T_d053a_row4_col1\" class=\"data row4 col1\" >0.024960</td>\n",
              "      <td id=\"T_d053a_row4_col2\" class=\"data row4 col2\" >0.003097</td>\n",
              "      <td id=\"T_d053a_row4_col3\" class=\"data row4 col3\" >0.002618</td>\n",
              "      <td id=\"T_d053a_row4_col4\" class=\"data row4 col4\" >0.004940</td>\n",
              "      <td id=\"T_d053a_row4_col5\" class=\"data row4 col5\" >0.000304</td>\n",
              "      <td id=\"T_d053a_row4_col6\" class=\"data row4 col6\" >0.002619</td>\n",
              "      <td id=\"T_d053a_row4_col7\" class=\"data row4 col7\" >0.006898</td>\n",
              "    </tr>\n",
              "    <tr>\n",
              "      <th id=\"T_d053a_level0_row5\" class=\"row_heading level0 row5\" >5</th>\n",
              "      <td id=\"T_d053a_row5_col0\" class=\"data row5 col0\" >0.013656</td>\n",
              "      <td id=\"T_d053a_row5_col1\" class=\"data row5 col1\" >0.013148</td>\n",
              "      <td id=\"T_d053a_row5_col2\" class=\"data row5 col2\" >0.008620</td>\n",
              "      <td id=\"T_d053a_row5_col3\" class=\"data row5 col3\" >0.004129</td>\n",
              "      <td id=\"T_d053a_row5_col4\" class=\"data row5 col4\" >0.003002</td>\n",
              "      <td id=\"T_d053a_row5_col5\" class=\"data row5 col5\" >0.002711</td>\n",
              "      <td id=\"T_d053a_row5_col6\" class=\"data row5 col6\" >0.006144</td>\n",
              "      <td id=\"T_d053a_row5_col7\" class=\"data row5 col7\" >0.006782</td>\n",
              "    </tr>\n",
              "    <tr>\n",
              "      <th id=\"T_d053a_level0_row6\" class=\"row_heading level0 row6\" >6</th>\n",
              "      <td id=\"T_d053a_row6_col0\" class=\"data row6 col0\" >0.000520</td>\n",
              "      <td id=\"T_d053a_row6_col1\" class=\"data row6 col1\" >0.000696</td>\n",
              "      <td id=\"T_d053a_row6_col2\" class=\"data row6 col2\" >0.000580</td>\n",
              "      <td id=\"T_d053a_row6_col3\" class=\"data row6 col3\" >0.000085</td>\n",
              "      <td id=\"T_d053a_row6_col4\" class=\"data row6 col4\" >0.000273</td>\n",
              "      <td id=\"T_d053a_row6_col5\" class=\"data row6 col5\" >0.000100</td>\n",
              "      <td id=\"T_d053a_row6_col6\" class=\"data row6 col6\" >0.000006</td>\n",
              "      <td id=\"T_d053a_row6_col7\" class=\"data row6 col7\" >0.000528</td>\n",
              "    </tr>\n",
              "    <tr>\n",
              "      <th id=\"T_d053a_level0_row7\" class=\"row_heading level0 row7\" >7</th>\n",
              "      <td id=\"T_d053a_row7_col0\" class=\"data row7 col0\" >0.039493</td>\n",
              "      <td id=\"T_d053a_row7_col1\" class=\"data row7 col1\" >0.005040</td>\n",
              "      <td id=\"T_d053a_row7_col2\" class=\"data row7 col2\" >0.029420</td>\n",
              "      <td id=\"T_d053a_row7_col3\" class=\"data row7 col3\" >0.000550</td>\n",
              "      <td id=\"T_d053a_row7_col4\" class=\"data row7 col4\" >0.008331</td>\n",
              "      <td id=\"T_d053a_row7_col5\" class=\"data row7 col5\" >0.001545</td>\n",
              "      <td id=\"T_d053a_row7_col6\" class=\"data row7 col6\" >0.004591</td>\n",
              "      <td id=\"T_d053a_row7_col7\" class=\"data row7 col7\" >0.015077</td>\n",
              "    </tr>\n",
              "    <tr>\n",
              "      <th id=\"T_d053a_level0_row8\" class=\"row_heading level0 row8\" >8</th>\n",
              "      <td id=\"T_d053a_row8_col0\" class=\"data row8 col0\" >0.020057</td>\n",
              "      <td id=\"T_d053a_row8_col1\" class=\"data row8 col1\" >0.001386</td>\n",
              "      <td id=\"T_d053a_row8_col2\" class=\"data row8 col2\" >0.003178</td>\n",
              "      <td id=\"T_d053a_row8_col3\" class=\"data row8 col3\" >0.008559</td>\n",
              "      <td id=\"T_d053a_row8_col4\" class=\"data row8 col4\" >0.004700</td>\n",
              "      <td id=\"T_d053a_row8_col5\" class=\"data row8 col5\" >0.005280</td>\n",
              "      <td id=\"T_d053a_row8_col6\" class=\"data row8 col6\" >0.022512</td>\n",
              "      <td id=\"T_d053a_row8_col7\" class=\"data row8 col7\" >0.021363</td>\n",
              "    </tr>\n",
              "    <tr>\n",
              "      <th id=\"T_d053a_level0_row9\" class=\"row_heading level0 row9\" >9</th>\n",
              "      <td id=\"T_d053a_row9_col0\" class=\"data row9 col0\" >0.016524</td>\n",
              "      <td id=\"T_d053a_row9_col1\" class=\"data row9 col1\" >0.002872</td>\n",
              "      <td id=\"T_d053a_row9_col2\" class=\"data row9 col2\" >0.011241</td>\n",
              "      <td id=\"T_d053a_row9_col3\" class=\"data row9 col3\" >0.002950</td>\n",
              "      <td id=\"T_d053a_row9_col4\" class=\"data row9 col4\" >0.000581</td>\n",
              "      <td id=\"T_d053a_row9_col5\" class=\"data row9 col5\" >0.021788</td>\n",
              "      <td id=\"T_d053a_row9_col6\" class=\"data row9 col6\" >0.011675</td>\n",
              "      <td id=\"T_d053a_row9_col7\" class=\"data row9 col7\" >0.007625</td>\n",
              "    </tr>\n",
              "  </tbody>\n",
              "</table>\n"
            ]
          },
          "metadata": {}
        }
      ]
    },
    {
      "cell_type": "markdown",
      "source": [
        "But how can we be sure that these results are accurate?\n",
        "\n",
        "On the rest of the notebook we will provide comparisons between DRx and PCA."
      ],
      "metadata": {
        "id": "-h-UmPX2vcPC"
      }
    },
    {
      "cell_type": "markdown",
      "source": [
        "## Weight Comparison\n",
        "\n",
        "First, lets compare the weights created by DRx to the weights that PCA provides us."
      ],
      "metadata": {
        "id": "YjurFIX6XkGi"
      }
    },
    {
      "cell_type": "code",
      "source": [
        "print(\"Weights of DRx\")\n",
        "display(pd.DataFrame(DRx_obj.explain_instance(X_test[1], number_of_neighbours=50, auto_alpha=True, use_LIME=True)))\n",
        "\n",
        "print(\"\")\n",
        "print(\"Weights of PCA\")\n",
        "display(pd.DataFrame(pca.components_))"
      ],
      "metadata": {
        "colab": {
          "base_uri": "https://localhost:8080/",
          "height": 636
        },
        "id": "oHg9OB5HXD--",
        "outputId": "a7314ceb-0255-43ad-fc62-320c2e526916"
      },
      "execution_count": 7,
      "outputs": [
        {
          "output_type": "stream",
          "name": "stdout",
          "text": [
            "Weights of DRx\n"
          ]
        },
        {
          "output_type": "display_data",
          "data": {
            "text/plain": [
              "          0         1         2         3         4         5         6  \\\n",
              "0  0.208658  0.189769  0.294365  0.264383  0.328668  0.347495 -0.271399   \n",
              "1  0.046622 -0.373508 -0.149805 -0.132471  0.554056  0.437735  0.479452   \n",
              "2  0.482005 -0.106694  0.164212  0.503430 -0.065469 -0.264121  0.373778   \n",
              "3 -0.407401 -0.664111  0.483343 -0.015680 -0.073799 -0.161988 -0.071136   \n",
              "4 -0.672417  0.362826  0.126047  0.480505  0.127938  0.114265  0.230274   \n",
              "5 -0.222596  0.045108 -0.388101 -0.267688  0.000988 -0.129476  0.097728   \n",
              "6 -0.110115 -0.066529 -0.503203  0.314636  0.072642 -0.227125 -0.005156   \n",
              "7  0.016906  0.430456  0.376658 -0.464068  0.126683 -0.183804  0.307330   \n",
              "\n",
              "          7         8         9  \n",
              "0  0.418829  0.371416  0.312952  \n",
              "1 -0.071773 -0.028116 -0.087998  \n",
              "2 -0.371317  0.058548  0.263577  \n",
              "3  0.005357  0.260373  0.082545  \n",
              "4 -0.143724 -0.145330  0.033214  \n",
              "5 -0.029334  0.172104  0.779382  \n",
              "6  0.068993  0.637544 -0.352202  \n",
              "7 -0.176127  0.441741 -0.161828  "
            ],
            "text/html": [
              "\n",
              "  <div id=\"df-81db1659-5a51-47b8-8ada-a769a4e22593\">\n",
              "    <div class=\"colab-df-container\">\n",
              "      <div>\n",
              "<style scoped>\n",
              "    .dataframe tbody tr th:only-of-type {\n",
              "        vertical-align: middle;\n",
              "    }\n",
              "\n",
              "    .dataframe tbody tr th {\n",
              "        vertical-align: top;\n",
              "    }\n",
              "\n",
              "    .dataframe thead th {\n",
              "        text-align: right;\n",
              "    }\n",
              "</style>\n",
              "<table border=\"1\" class=\"dataframe\">\n",
              "  <thead>\n",
              "    <tr style=\"text-align: right;\">\n",
              "      <th></th>\n",
              "      <th>0</th>\n",
              "      <th>1</th>\n",
              "      <th>2</th>\n",
              "      <th>3</th>\n",
              "      <th>4</th>\n",
              "      <th>5</th>\n",
              "      <th>6</th>\n",
              "      <th>7</th>\n",
              "      <th>8</th>\n",
              "      <th>9</th>\n",
              "    </tr>\n",
              "  </thead>\n",
              "  <tbody>\n",
              "    <tr>\n",
              "      <th>0</th>\n",
              "      <td>0.208658</td>\n",
              "      <td>0.189769</td>\n",
              "      <td>0.294365</td>\n",
              "      <td>0.264383</td>\n",
              "      <td>0.328668</td>\n",
              "      <td>0.347495</td>\n",
              "      <td>-0.271399</td>\n",
              "      <td>0.418829</td>\n",
              "      <td>0.371416</td>\n",
              "      <td>0.312952</td>\n",
              "    </tr>\n",
              "    <tr>\n",
              "      <th>1</th>\n",
              "      <td>0.046622</td>\n",
              "      <td>-0.373508</td>\n",
              "      <td>-0.149805</td>\n",
              "      <td>-0.132471</td>\n",
              "      <td>0.554056</td>\n",
              "      <td>0.437735</td>\n",
              "      <td>0.479452</td>\n",
              "      <td>-0.071773</td>\n",
              "      <td>-0.028116</td>\n",
              "      <td>-0.087998</td>\n",
              "    </tr>\n",
              "    <tr>\n",
              "      <th>2</th>\n",
              "      <td>0.482005</td>\n",
              "      <td>-0.106694</td>\n",
              "      <td>0.164212</td>\n",
              "      <td>0.503430</td>\n",
              "      <td>-0.065469</td>\n",
              "      <td>-0.264121</td>\n",
              "      <td>0.373778</td>\n",
              "      <td>-0.371317</td>\n",
              "      <td>0.058548</td>\n",
              "      <td>0.263577</td>\n",
              "    </tr>\n",
              "    <tr>\n",
              "      <th>3</th>\n",
              "      <td>-0.407401</td>\n",
              "      <td>-0.664111</td>\n",
              "      <td>0.483343</td>\n",
              "      <td>-0.015680</td>\n",
              "      <td>-0.073799</td>\n",
              "      <td>-0.161988</td>\n",
              "      <td>-0.071136</td>\n",
              "      <td>0.005357</td>\n",
              "      <td>0.260373</td>\n",
              "      <td>0.082545</td>\n",
              "    </tr>\n",
              "    <tr>\n",
              "      <th>4</th>\n",
              "      <td>-0.672417</td>\n",
              "      <td>0.362826</td>\n",
              "      <td>0.126047</td>\n",
              "      <td>0.480505</td>\n",
              "      <td>0.127938</td>\n",
              "      <td>0.114265</td>\n",
              "      <td>0.230274</td>\n",
              "      <td>-0.143724</td>\n",
              "      <td>-0.145330</td>\n",
              "      <td>0.033214</td>\n",
              "    </tr>\n",
              "    <tr>\n",
              "      <th>5</th>\n",
              "      <td>-0.222596</td>\n",
              "      <td>0.045108</td>\n",
              "      <td>-0.388101</td>\n",
              "      <td>-0.267688</td>\n",
              "      <td>0.000988</td>\n",
              "      <td>-0.129476</td>\n",
              "      <td>0.097728</td>\n",
              "      <td>-0.029334</td>\n",
              "      <td>0.172104</td>\n",
              "      <td>0.779382</td>\n",
              "    </tr>\n",
              "    <tr>\n",
              "      <th>6</th>\n",
              "      <td>-0.110115</td>\n",
              "      <td>-0.066529</td>\n",
              "      <td>-0.503203</td>\n",
              "      <td>0.314636</td>\n",
              "      <td>0.072642</td>\n",
              "      <td>-0.227125</td>\n",
              "      <td>-0.005156</td>\n",
              "      <td>0.068993</td>\n",
              "      <td>0.637544</td>\n",
              "      <td>-0.352202</td>\n",
              "    </tr>\n",
              "    <tr>\n",
              "      <th>7</th>\n",
              "      <td>0.016906</td>\n",
              "      <td>0.430456</td>\n",
              "      <td>0.376658</td>\n",
              "      <td>-0.464068</td>\n",
              "      <td>0.126683</td>\n",
              "      <td>-0.183804</td>\n",
              "      <td>0.307330</td>\n",
              "      <td>-0.176127</td>\n",
              "      <td>0.441741</td>\n",
              "      <td>-0.161828</td>\n",
              "    </tr>\n",
              "  </tbody>\n",
              "</table>\n",
              "</div>\n",
              "      <button class=\"colab-df-convert\" onclick=\"convertToInteractive('df-81db1659-5a51-47b8-8ada-a769a4e22593')\"\n",
              "              title=\"Convert this dataframe to an interactive table.\"\n",
              "              style=\"display:none;\">\n",
              "        \n",
              "  <svg xmlns=\"http://www.w3.org/2000/svg\" height=\"24px\"viewBox=\"0 0 24 24\"\n",
              "       width=\"24px\">\n",
              "    <path d=\"M0 0h24v24H0V0z\" fill=\"none\"/>\n",
              "    <path d=\"M18.56 5.44l.94 2.06.94-2.06 2.06-.94-2.06-.94-.94-2.06-.94 2.06-2.06.94zm-11 1L8.5 8.5l.94-2.06 2.06-.94-2.06-.94L8.5 2.5l-.94 2.06-2.06.94zm10 10l.94 2.06.94-2.06 2.06-.94-2.06-.94-.94-2.06-.94 2.06-2.06.94z\"/><path d=\"M17.41 7.96l-1.37-1.37c-.4-.4-.92-.59-1.43-.59-.52 0-1.04.2-1.43.59L10.3 9.45l-7.72 7.72c-.78.78-.78 2.05 0 2.83L4 21.41c.39.39.9.59 1.41.59.51 0 1.02-.2 1.41-.59l7.78-7.78 2.81-2.81c.8-.78.8-2.07 0-2.86zM5.41 20L4 18.59l7.72-7.72 1.47 1.35L5.41 20z\"/>\n",
              "  </svg>\n",
              "      </button>\n",
              "      \n",
              "  <style>\n",
              "    .colab-df-container {\n",
              "      display:flex;\n",
              "      flex-wrap:wrap;\n",
              "      gap: 12px;\n",
              "    }\n",
              "\n",
              "    .colab-df-convert {\n",
              "      background-color: #E8F0FE;\n",
              "      border: none;\n",
              "      border-radius: 50%;\n",
              "      cursor: pointer;\n",
              "      display: none;\n",
              "      fill: #1967D2;\n",
              "      height: 32px;\n",
              "      padding: 0 0 0 0;\n",
              "      width: 32px;\n",
              "    }\n",
              "\n",
              "    .colab-df-convert:hover {\n",
              "      background-color: #E2EBFA;\n",
              "      box-shadow: 0px 1px 2px rgba(60, 64, 67, 0.3), 0px 1px 3px 1px rgba(60, 64, 67, 0.15);\n",
              "      fill: #174EA6;\n",
              "    }\n",
              "\n",
              "    [theme=dark] .colab-df-convert {\n",
              "      background-color: #3B4455;\n",
              "      fill: #D2E3FC;\n",
              "    }\n",
              "\n",
              "    [theme=dark] .colab-df-convert:hover {\n",
              "      background-color: #434B5C;\n",
              "      box-shadow: 0px 1px 3px 1px rgba(0, 0, 0, 0.15);\n",
              "      filter: drop-shadow(0px 1px 2px rgba(0, 0, 0, 0.3));\n",
              "      fill: #FFFFFF;\n",
              "    }\n",
              "  </style>\n",
              "\n",
              "      <script>\n",
              "        const buttonEl =\n",
              "          document.querySelector('#df-81db1659-5a51-47b8-8ada-a769a4e22593 button.colab-df-convert');\n",
              "        buttonEl.style.display =\n",
              "          google.colab.kernel.accessAllowed ? 'block' : 'none';\n",
              "\n",
              "        async function convertToInteractive(key) {\n",
              "          const element = document.querySelector('#df-81db1659-5a51-47b8-8ada-a769a4e22593');\n",
              "          const dataTable =\n",
              "            await google.colab.kernel.invokeFunction('convertToInteractive',\n",
              "                                                     [key], {});\n",
              "          if (!dataTable) return;\n",
              "\n",
              "          const docLinkHtml = 'Like what you see? Visit the ' +\n",
              "            '<a target=\"_blank\" href=https://colab.research.google.com/notebooks/data_table.ipynb>data table notebook</a>'\n",
              "            + ' to learn more about interactive tables.';\n",
              "          element.innerHTML = '';\n",
              "          dataTable['output_type'] = 'display_data';\n",
              "          await google.colab.output.renderOutput(dataTable, element);\n",
              "          const docLink = document.createElement('div');\n",
              "          docLink.innerHTML = docLinkHtml;\n",
              "          element.appendChild(docLink);\n",
              "        }\n",
              "      </script>\n",
              "    </div>\n",
              "  </div>\n",
              "  "
            ]
          },
          "metadata": {}
        },
        {
          "output_type": "stream",
          "name": "stdout",
          "text": [
            "\n",
            "Weights of PCA\n"
          ]
        },
        {
          "output_type": "display_data",
          "data": {
            "text/plain": [
              "          0         1         2         3         4         5         6  \\\n",
              "0  0.216431  0.186967  0.303162  0.271740  0.343255  0.351861 -0.282436   \n",
              "1  0.044372 -0.386548 -0.156281 -0.138256  0.573027  0.455940  0.506243   \n",
              "2  0.494668 -0.106858  0.167532  0.513568 -0.068587 -0.269694  0.386028   \n",
              "3 -0.414009 -0.679861  0.499825 -0.019667 -0.068395 -0.167774 -0.076020   \n",
              "4 -0.686864  0.373456  0.129359  0.486890  0.129174  0.116731  0.244991   \n",
              "5 -0.225851  0.041731 -0.403142 -0.272763  0.005409 -0.133257  0.106372   \n",
              "6 -0.109538 -0.067606 -0.519858  0.320649  0.073649 -0.230540 -0.007534   \n",
              "7  0.014935  0.442940  0.392942 -0.477364  0.129414 -0.191311  0.324636   \n",
              "\n",
              "          7         8         9  \n",
              "0  0.428833  0.378617  0.322183  \n",
              "1 -0.068184 -0.026189 -0.084947  \n",
              "2 -0.380681  0.063632  0.276843  \n",
              "3  0.007921  0.264427  0.087086  \n",
              "4 -0.143644 -0.151661  0.031388  \n",
              "5 -0.033945  0.178730  0.805064  \n",
              "6  0.071236  0.647313 -0.357273  \n",
              "7 -0.180588  0.449660 -0.166609  "
            ],
            "text/html": [
              "\n",
              "  <div id=\"df-1c45aff9-0fac-4383-a808-3714de019207\">\n",
              "    <div class=\"colab-df-container\">\n",
              "      <div>\n",
              "<style scoped>\n",
              "    .dataframe tbody tr th:only-of-type {\n",
              "        vertical-align: middle;\n",
              "    }\n",
              "\n",
              "    .dataframe tbody tr th {\n",
              "        vertical-align: top;\n",
              "    }\n",
              "\n",
              "    .dataframe thead th {\n",
              "        text-align: right;\n",
              "    }\n",
              "</style>\n",
              "<table border=\"1\" class=\"dataframe\">\n",
              "  <thead>\n",
              "    <tr style=\"text-align: right;\">\n",
              "      <th></th>\n",
              "      <th>0</th>\n",
              "      <th>1</th>\n",
              "      <th>2</th>\n",
              "      <th>3</th>\n",
              "      <th>4</th>\n",
              "      <th>5</th>\n",
              "      <th>6</th>\n",
              "      <th>7</th>\n",
              "      <th>8</th>\n",
              "      <th>9</th>\n",
              "    </tr>\n",
              "  </thead>\n",
              "  <tbody>\n",
              "    <tr>\n",
              "      <th>0</th>\n",
              "      <td>0.216431</td>\n",
              "      <td>0.186967</td>\n",
              "      <td>0.303162</td>\n",
              "      <td>0.271740</td>\n",
              "      <td>0.343255</td>\n",
              "      <td>0.351861</td>\n",
              "      <td>-0.282436</td>\n",
              "      <td>0.428833</td>\n",
              "      <td>0.378617</td>\n",
              "      <td>0.322183</td>\n",
              "    </tr>\n",
              "    <tr>\n",
              "      <th>1</th>\n",
              "      <td>0.044372</td>\n",
              "      <td>-0.386548</td>\n",
              "      <td>-0.156281</td>\n",
              "      <td>-0.138256</td>\n",
              "      <td>0.573027</td>\n",
              "      <td>0.455940</td>\n",
              "      <td>0.506243</td>\n",
              "      <td>-0.068184</td>\n",
              "      <td>-0.026189</td>\n",
              "      <td>-0.084947</td>\n",
              "    </tr>\n",
              "    <tr>\n",
              "      <th>2</th>\n",
              "      <td>0.494668</td>\n",
              "      <td>-0.106858</td>\n",
              "      <td>0.167532</td>\n",
              "      <td>0.513568</td>\n",
              "      <td>-0.068587</td>\n",
              "      <td>-0.269694</td>\n",
              "      <td>0.386028</td>\n",
              "      <td>-0.380681</td>\n",
              "      <td>0.063632</td>\n",
              "      <td>0.276843</td>\n",
              "    </tr>\n",
              "    <tr>\n",
              "      <th>3</th>\n",
              "      <td>-0.414009</td>\n",
              "      <td>-0.679861</td>\n",
              "      <td>0.499825</td>\n",
              "      <td>-0.019667</td>\n",
              "      <td>-0.068395</td>\n",
              "      <td>-0.167774</td>\n",
              "      <td>-0.076020</td>\n",
              "      <td>0.007921</td>\n",
              "      <td>0.264427</td>\n",
              "      <td>0.087086</td>\n",
              "    </tr>\n",
              "    <tr>\n",
              "      <th>4</th>\n",
              "      <td>-0.686864</td>\n",
              "      <td>0.373456</td>\n",
              "      <td>0.129359</td>\n",
              "      <td>0.486890</td>\n",
              "      <td>0.129174</td>\n",
              "      <td>0.116731</td>\n",
              "      <td>0.244991</td>\n",
              "      <td>-0.143644</td>\n",
              "      <td>-0.151661</td>\n",
              "      <td>0.031388</td>\n",
              "    </tr>\n",
              "    <tr>\n",
              "      <th>5</th>\n",
              "      <td>-0.225851</td>\n",
              "      <td>0.041731</td>\n",
              "      <td>-0.403142</td>\n",
              "      <td>-0.272763</td>\n",
              "      <td>0.005409</td>\n",
              "      <td>-0.133257</td>\n",
              "      <td>0.106372</td>\n",
              "      <td>-0.033945</td>\n",
              "      <td>0.178730</td>\n",
              "      <td>0.805064</td>\n",
              "    </tr>\n",
              "    <tr>\n",
              "      <th>6</th>\n",
              "      <td>-0.109538</td>\n",
              "      <td>-0.067606</td>\n",
              "      <td>-0.519858</td>\n",
              "      <td>0.320649</td>\n",
              "      <td>0.073649</td>\n",
              "      <td>-0.230540</td>\n",
              "      <td>-0.007534</td>\n",
              "      <td>0.071236</td>\n",
              "      <td>0.647313</td>\n",
              "      <td>-0.357273</td>\n",
              "    </tr>\n",
              "    <tr>\n",
              "      <th>7</th>\n",
              "      <td>0.014935</td>\n",
              "      <td>0.442940</td>\n",
              "      <td>0.392942</td>\n",
              "      <td>-0.477364</td>\n",
              "      <td>0.129414</td>\n",
              "      <td>-0.191311</td>\n",
              "      <td>0.324636</td>\n",
              "      <td>-0.180588</td>\n",
              "      <td>0.449660</td>\n",
              "      <td>-0.166609</td>\n",
              "    </tr>\n",
              "  </tbody>\n",
              "</table>\n",
              "</div>\n",
              "      <button class=\"colab-df-convert\" onclick=\"convertToInteractive('df-1c45aff9-0fac-4383-a808-3714de019207')\"\n",
              "              title=\"Convert this dataframe to an interactive table.\"\n",
              "              style=\"display:none;\">\n",
              "        \n",
              "  <svg xmlns=\"http://www.w3.org/2000/svg\" height=\"24px\"viewBox=\"0 0 24 24\"\n",
              "       width=\"24px\">\n",
              "    <path d=\"M0 0h24v24H0V0z\" fill=\"none\"/>\n",
              "    <path d=\"M18.56 5.44l.94 2.06.94-2.06 2.06-.94-2.06-.94-.94-2.06-.94 2.06-2.06.94zm-11 1L8.5 8.5l.94-2.06 2.06-.94-2.06-.94L8.5 2.5l-.94 2.06-2.06.94zm10 10l.94 2.06.94-2.06 2.06-.94-2.06-.94-.94-2.06-.94 2.06-2.06.94z\"/><path d=\"M17.41 7.96l-1.37-1.37c-.4-.4-.92-.59-1.43-.59-.52 0-1.04.2-1.43.59L10.3 9.45l-7.72 7.72c-.78.78-.78 2.05 0 2.83L4 21.41c.39.39.9.59 1.41.59.51 0 1.02-.2 1.41-.59l7.78-7.78 2.81-2.81c.8-.78.8-2.07 0-2.86zM5.41 20L4 18.59l7.72-7.72 1.47 1.35L5.41 20z\"/>\n",
              "  </svg>\n",
              "      </button>\n",
              "      \n",
              "  <style>\n",
              "    .colab-df-container {\n",
              "      display:flex;\n",
              "      flex-wrap:wrap;\n",
              "      gap: 12px;\n",
              "    }\n",
              "\n",
              "    .colab-df-convert {\n",
              "      background-color: #E8F0FE;\n",
              "      border: none;\n",
              "      border-radius: 50%;\n",
              "      cursor: pointer;\n",
              "      display: none;\n",
              "      fill: #1967D2;\n",
              "      height: 32px;\n",
              "      padding: 0 0 0 0;\n",
              "      width: 32px;\n",
              "    }\n",
              "\n",
              "    .colab-df-convert:hover {\n",
              "      background-color: #E2EBFA;\n",
              "      box-shadow: 0px 1px 2px rgba(60, 64, 67, 0.3), 0px 1px 3px 1px rgba(60, 64, 67, 0.15);\n",
              "      fill: #174EA6;\n",
              "    }\n",
              "\n",
              "    [theme=dark] .colab-df-convert {\n",
              "      background-color: #3B4455;\n",
              "      fill: #D2E3FC;\n",
              "    }\n",
              "\n",
              "    [theme=dark] .colab-df-convert:hover {\n",
              "      background-color: #434B5C;\n",
              "      box-shadow: 0px 1px 3px 1px rgba(0, 0, 0, 0.15);\n",
              "      filter: drop-shadow(0px 1px 2px rgba(0, 0, 0, 0.3));\n",
              "      fill: #FFFFFF;\n",
              "    }\n",
              "  </style>\n",
              "\n",
              "      <script>\n",
              "        const buttonEl =\n",
              "          document.querySelector('#df-1c45aff9-0fac-4383-a808-3714de019207 button.colab-df-convert');\n",
              "        buttonEl.style.display =\n",
              "          google.colab.kernel.accessAllowed ? 'block' : 'none';\n",
              "\n",
              "        async function convertToInteractive(key) {\n",
              "          const element = document.querySelector('#df-1c45aff9-0fac-4383-a808-3714de019207');\n",
              "          const dataTable =\n",
              "            await google.colab.kernel.invokeFunction('convertToInteractive',\n",
              "                                                     [key], {});\n",
              "          if (!dataTable) return;\n",
              "\n",
              "          const docLinkHtml = 'Like what you see? Visit the ' +\n",
              "            '<a target=\"_blank\" href=https://colab.research.google.com/notebooks/data_table.ipynb>data table notebook</a>'\n",
              "            + ' to learn more about interactive tables.';\n",
              "          element.innerHTML = '';\n",
              "          dataTable['output_type'] = 'display_data';\n",
              "          await google.colab.output.renderOutput(dataTable, element);\n",
              "          const docLink = document.createElement('div');\n",
              "          docLink.innerHTML = docLinkHtml;\n",
              "          element.appendChild(docLink);\n",
              "        }\n",
              "      </script>\n",
              "    </div>\n",
              "  </div>\n",
              "  "
            ]
          },
          "metadata": {}
        }
      ]
    },
    {
      "cell_type": "markdown",
      "source": [
        "As we can see above, DRx was able to generate very similar weights. It is worthy mentioning that DRx creates a set of weights for each individual instance, while PCA has only one set of weights for the entire dataset.\n",
        "\n",
        "A more intuitive comparison of the weights for the same instance can be seen in the heatmap below.\n"
      ],
      "metadata": {
        "id": "WLe7Ta0wcze0"
      }
    },
    {
      "cell_type": "code",
      "source": [
        "DRx_obj.create_heatmap(X_test[1], number_of_neighbours=50, auto_alpha=True, use_LIME=True, normalised=True)"
      ],
      "metadata": {
        "colab": {
          "base_uri": "https://localhost:8080/",
          "height": 295
        },
        "id": "UbbdvfbWoDxS",
        "outputId": "c5a2d466-be09-467f-c213-3cf5b7f23d68"
      },
      "execution_count": 8,
      "outputs": [
        {
          "output_type": "display_data",
          "data": {
            "text/plain": [
              "<Figure size 432x288 with 2 Axes>"
            ],
            "image/png": "[encoded data removed]"
          },
          "metadata": {
            "needs_background": "light"
          }
        }
      ]
    },
    {
      "cell_type": "markdown",
      "source": [
        "Lets also calculate the error between the weights of DRx and PCA for the whole dataset. Below we can see the Mean Absolute Error, the Cosine Error and the Euclidean error."
      ],
      "metadata": {
        "id": "wRRtYx9Crcw2"
      }
    },
    {
      "cell_type": "code",
      "source": [
        "print(DRx_obj.find_weights_error(X_test, number_of_neighbours=50, auto_alpha=True, use_LIME=True, normalised=True))"
      ],
      "metadata": {
        "colab": {
          "base_uri": "https://localhost:8080/"
        },
        "id": "Rosh5IGCkdLu",
        "outputId": "f7f378cb-061e-4d30-af62-ec5933a004e1"
      },
      "execution_count": 9,
      "outputs": [
        {
          "output_type": "stream",
          "name": "stdout",
          "text": [
            "mean_absolute_error =  0.005656234366741156\n",
            "cosine error =  8.104713621123828e-05\n",
            "euclidean error =  0.02293679029154292\n",
            "(0.005656234366741156, 8.104713621123828e-05, 0.02293679029154292)\n"
          ]
        }
      ]
    },
    {
      "cell_type": "markdown",
      "source": [
        "## Instance difference\n",
        "\n",
        "Below we can see the comparison between the reduced space instance generated via the weights of DRx and the weights of DRt (PCA)."
      ],
      "metadata": {
        "id": "MS2UsC3ZnFzo"
      }
    },
    {
      "cell_type": "code",
      "source": [
        "DRx_obj.visualise_reconstructed(X_test[1], number_of_neighbours=50, auto_alpha=True, use_LIME=True, use_mean=True, normalised=True)\n",
        "\n",
        "DRx_obj.find_reconstruction_error(X_test[1].reshape(1, -1), number_of_neighbours=50, auto_alpha=True, use_LIME=True, use_mean=True, normalised=True)"
      ],
      "metadata": {
        "colab": {
          "base_uri": "https://localhost:8080/",
          "height": 473
        },
        "id": "8GUjux9ZmMrD",
        "outputId": "89daa8e4-22f9-45e2-ee77-7b8e1afd2297"
      },
      "execution_count": 10,
      "outputs": [
        {
          "output_type": "display_data",
          "data": {
            "text/plain": [
              "<Figure size 432x432 with 1 Axes>"
            ],
            "image/png": "[encoded data removed]"
          },
          "metadata": {
            "needs_background": "light"
          }
        },
        {
          "output_type": "stream",
          "name": "stdout",
          "text": [
            "mean_absolute_error =  0.0009949102205181895\n",
            "cosine error =  5.2601696438725476e-05\n",
            "euclidean error =  0.01659969392203831\n"
          ]
        },
        {
          "output_type": "execute_result",
          "data": {
            "text/plain": [
              "(0.0009949102205181895, array([[5.26016964e-05]]), array([[0.01659969]]))"
            ]
          },
          "metadata": {},
          "execution_count": 10
        }
      ]
    }
  ]
}