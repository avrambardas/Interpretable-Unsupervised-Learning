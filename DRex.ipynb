{
  "nbformat": 4,
  "nbformat_minor": 0,
  "metadata": {
    "colab": {
      "name": "DRex.ipynb",
      "provenance": []
    },
    "kernelspec": {
      "name": "python3",
      "display_name": "Python 3"
    },
    "language_info": {
      "name": "python"
    }
  },
  "cells": [
    {
      "cell_type": "code",
      "metadata": {
        "id": "y0ILeXGuL2kb"
      },
      "source": [
        "import math\n",
        "import numpy as np\n",
        "import site, pprint\n",
        "import pandas as pd\n",
        "import seaborn as sns\n",
        "from sklearn import datasets\n",
        "import matplotlib.pyplot as plt\n",
        "from keras.datasets import mnist\n",
        "from sklearn.manifold import TSNE\n",
        "from sklearn.decomposition import NMF\n",
        "from sklearn.decomposition import PCA\n",
        "from sklearn.linear_model import Ridge\n",
        "from mpl_toolkits.mplot3d import Axes3D\n",
        "from sklearn.decomposition import FastICA\n",
        "from sklearn.decomposition import KernelPCA\n",
        "from sklearn.neighbors import NearestNeighbors\n",
        "from sklearn.metrics import mean_squared_error\n",
        "from sklearn.metrics import mean_absolute_error\n",
        "from sklearn.metrics.pairwise import cosine_similarity\n",
        "from sklearn.metrics.pairwise import euclidean_distances\n",
        "from sklearn.decomposition import LatentDirichletAllocation"
      ],
      "execution_count": 1,
      "outputs": []
    },
    {
      "cell_type": "code",
      "metadata": {
        "id": "ztil_8_eSW6o"
      },
      "source": [
        "def normalise_(array):\n",
        "  array = np.array(array)\n",
        "  for dimension in range(len(array[0])):\n",
        "    max_value = np.amax(array[:, dimension])\n",
        "    min_value = np.amin(array[:, dimension])\n",
        "    abs_max = max(abs(max_value), abs(min_value))\n",
        "    array[:, dimension] = np.divide(array[:, dimension], abs_max)\n",
        "  return array\n",
        "\n",
        "\n",
        "def Kernel(array, d):\n",
        "  normilised_distances = []\n",
        "  for sample in range(len(array)):\n",
        "    local_dist = []\n",
        "    for dist in range(len(array[0])):\n",
        "      power = -dist * math.log(d)/2\n",
        "      normilised = math.pow(math.e,power) * math.log(d)\n",
        "      local_dist.append(normilised)\n",
        "    normilised_distances.append(local_dist)\n",
        "  return normilised_distances\n",
        "\n",
        "\n",
        "\n",
        "def best_Alpha(X, y):\n",
        "  best_model = None\n",
        "  best_score = 10000\n",
        "  alphas = [0.1, 1.0, 10]\n",
        "  best_a = 0\n",
        "  performances = []\n",
        "  for a in alphas:\n",
        "    temp_model = Ridge(alpha = a).fit(X, y)\n",
        "    temp_perfomance = abs(mean_squared_error(y, temp_model.predict(X)))\n",
        "    performances.append(temp_perfomance)\n",
        "    if temp_perfomance < best_score:\n",
        "      best_score = temp_perfomance\n",
        "      best_model = temp_model\n",
        "      best_a = a\n",
        "  return best_model #, best_a, performances\n",
        "\n",
        "\n",
        "\n",
        "def get_nearest_neighbs(initial_data, number_of_neghbours):\n",
        "  neighbs_for_each_sample = []\n",
        "  for i in range(len(initial_data)):\n",
        "    neigh = NearestNeighbors(n_neighbors = number_of_neghbours)\n",
        "    neigh.fit(initial_data)\n",
        "    All_50_neighbors = neigh.kneighbors(initial_data[i].reshape(1, -1), return_distance=False)[0]\n",
        "    neighbs_for_each_sample.append(All_50_neighbors)\n",
        "\n",
        "  total_neighbs = []\n",
        "  for i in range(len(neighbs_for_each_sample)):\n",
        "    local_neighb = [] \n",
        "    for sample in neighbs_for_each_sample[i]:\n",
        "      local_neighb.append(initial_data[sample])\n",
        "    total_neighbs.append(local_neighb)\n",
        "  return total_neighbs\n",
        "\n",
        "\n",
        "\n",
        "def get_Lime_Neighbs(initial_data, DM_func, number_of_neghbours):\n",
        "  from lime.lime_tabular import LimeTabularExplainer\n",
        "  explainer =  LimeTabularExplainer(training_data = initial_data, discretize_continuous = False, mode = \"regression\", random_state=0)\n",
        "\n",
        "  all_LIME_neighbs = []\n",
        "  all_reduced_LIME_neighbs = []\n",
        "  all_LIME_distances = []\n",
        "  for sample in range(len(initial_data)):\n",
        "    temp = explainer.give_me_the_neighbourhood(initial_data[sample], DM_func, num_samples=number_of_neghbours)\n",
        "    all_LIME_neighbs.append(temp[0])\n",
        "    all_reduced_LIME_neighbs.append(temp[1])\n",
        "    all_LIME_distances.append(temp[2])\n",
        "  return all_LIME_neighbs, all_reduced_LIME_neighbs, all_LIME_distances\n",
        "\n",
        "\n",
        "\n",
        "def get_Transformed_total_neighbs(total_neighbs, DM_func):\n",
        "  Transformed_total_neighbs = []\n",
        "  for i in range(len(total_neighbs)):\n",
        "    Transformed_total_neighbs.append(DM_func(total_neighbs[i]))\n",
        "  return Transformed_total_neighbs\n",
        "\n",
        "\n",
        "\n",
        "def get_euclidean_distances(initial_data, total_neighbs):\n",
        "  total_distances = []\n",
        "  for sample in range(len(initial_data)):\n",
        "    total_distances.append(euclidean_distances(initial_data[sample].reshape(1, -1), total_neighbs[sample].reshape(-1, len(initial_data[0])))[0])\n",
        "  return total_distances\n",
        "\n",
        "\n",
        "\n",
        "def get_total_coef(total_neighbs_np, Transformed_total_neighbs_np, linear_model):\n",
        "  total_coef = []\n",
        "\n",
        "  for sample in range(len(total_neighbs_np)):\n",
        "    local_coef = []\n",
        "    for column in range(len(Transformed_total_neighbs_np[0][0])):\n",
        "      clf = linear_model.fit(total_neighbs_np[sample], Transformed_total_neighbs_np[sample,:,column])#, normilised_distances[sample])\n",
        "      local_coef.append(clf.coef_)\n",
        "    total_coef.append(local_coef)\n",
        "  return (total_coef)\n",
        "\n",
        "\n",
        "def create_reduced_space_data(initial_data, coef_1):\n",
        "  X_new = initial_data - initial_data.mean(axis=0)\n",
        "  model_summed_values = []\n",
        "\n",
        "  for sample in range(len(initial_data)):\n",
        "    model_summed_value = []\n",
        "    for dimension in range(len(coef_1[0])):\n",
        "      model_value = X_new[sample] * coef_1[sample][dimension]\n",
        "      model_summed_value.append(sum(model_value))\n",
        "    model_summed_values.append(model_summed_value)\n",
        "  return model_summed_values\n",
        "\n",
        "\n",
        "def explain(initial_data, initial_predictions, DM_func, number_of_neghbours, find_Alpha, use_LIME_neighbs):\n",
        "  if use_LIME_neighbs:\n",
        "    total_neighbs, Transformed_total_neighbs, total_distances = get_Lime_Neighbs(initial_data, DM_func, number_of_neghbours)\n",
        "  else:\n",
        "    total_neighbs = get_nearest_neighbs(initial_data, number_of_neghbours)\n",
        "    Transformed_total_neighbs = get_Transformed_total_neighbs(total_neighbs, DM_func)\n",
        "    #total_distances = get_euclidean_distances(initial_data, total_neighbs)\n",
        "    \n",
        "  initial_data_np = np.array(initial_data)\n",
        "  total_neighbs_np = np.array(total_neighbs)\n",
        "  Transformed_total_neighbs_np = np.array(Transformed_total_neighbs)\n",
        "\n",
        "  total_distances = get_euclidean_distances(initial_data_np, total_neighbs_np)\n",
        "\n",
        "  if find_Alpha:\n",
        "    linear_model = best_Alpha(initial_data, initial_predictions)\n",
        "  else:\n",
        "    linear_model = Ridge(alpha=10)\n",
        "\n",
        "  total_coef = get_total_coef(total_neighbs_np, Transformed_total_neighbs_np, linear_model)\n",
        "  reduced_space_data = create_reduced_space_data(initial_data, total_coef)\n",
        "  return total_coef, reduced_space_data, total_neighbs_np, total_distances\n",
        "\n",
        "\n",
        "\n",
        "def find_error(initial_data, model_Transformed_dataset, Transformed_dataset):\n",
        "  mae = mean_absolute_error(Transformed_dataset, model_Transformed_dataset)\n",
        "  print(\"mean_absolute_error = \",mae)\n",
        "\n",
        "  Transformed_dataset_np = np.array(Transformed_dataset)\n",
        "  model_summed_values_np = np.array(model_Transformed_dataset)\n",
        "\n",
        "  cos_sum = 0\n",
        "  euc_sum = 0\n",
        "  for sample in range(len(Transformed_dataset)):\n",
        "    cos_sum += 1 - cosine_similarity(np.array([Transformed_dataset_np[sample]]), np.array([model_summed_values_np[sample]]))\n",
        "    euc_sum += euclidean_distances(np.array([Transformed_dataset_np[sample]]), np.array([model_summed_values_np[sample]]))\n",
        "\n",
        "  cos_error = cos_sum/len(Transformed_dataset)\n",
        "  euc_error = euc_sum/len(Transformed_dataset)\n",
        "\n",
        "  print(\"cosine error = \", cos_error[0][0])\n",
        "  print(\"euclidean error = \", euc_error[0][0])\n",
        "\n",
        "  return mae, cos_error, euc_error\n",
        "\n",
        "\n",
        "\n",
        "#only works if the DM technique can return PCA like components\n",
        "def visualise(sample, initial_data, coef_1, coef_2):\n",
        "  X_new = initial_data - initial_data.mean(axis=0)\n",
        "  model_value = X_new[sample] * coef_1[sample][1]\n",
        "  pca_value = X_new[sample]  * coef_2.T[:,1]\n",
        "\n",
        "  index_ = []\n",
        "  for i in range(len(model_value)):\n",
        "    index_.append(\"f\" + str(i))\n",
        "\n",
        "  size = math.sqrt(len(model_value)) * 3\n",
        "  plotdata = pd.DataFrame({\n",
        "      \"Model\":model_value,\n",
        "      \"PCA\":pca_value,\n",
        "      }, \n",
        "      index=index_\n",
        "  )\n",
        "  plt.rcParams[\"figure.figsize\"] = [size, 6]\n",
        "  plotdata.plot(kind=\"bar\", rot=0)\n",
        "  plt.title(\"value comparison\")\n",
        "  plt.xlabel(\"features\")\n",
        "  plt.ylabel(\"values\")\n",
        "  plt.show() \n",
        "\n",
        "\n",
        "def create_heatmap(sample, coef_1, coef_2):\n",
        "  features = []\n",
        "  for i in range(len(coef_1[sample][0])):\n",
        "    features.append(\"F\" + str(i))\n",
        "\n",
        "  components = []\n",
        "  for i in range(len(coef_1[sample])):\n",
        "    components.append(\"C\" + str(i))\n",
        "\n",
        "  coef_1_np = np.array(coef_1[sample])\n",
        "  coef_2_np = np.array(coef_2)\n",
        "  scores = abs(np.subtract(coef_1_np, coef_2_np)) \n",
        "\n",
        "  ax = sns.heatmap( scores , annot=True, fmt='.2f', linewidth = 0.1 , cmap = 'hot_r', xticklabels = features, yticklabels = components ) \n",
        "\n",
        "  plt.xlabel('Features')\n",
        "  plt.ylabel('Components')\n",
        "  plt.title( \"error between weights\" ) \n",
        "  plt.show() "
      ],
      "execution_count": 2,
      "outputs": []
    },
    {
      "cell_type": "code",
      "metadata": {
        "colab": {
          "base_uri": "https://localhost:8080/"
        },
        "id": "9l0lTXeGLIqE",
        "outputId": "c0efeef4-171b-4278-b0c4-9dc7b20bbeaa"
      },
      "source": [
        "!python --version"
      ],
      "execution_count": 3,
      "outputs": [
        {
          "output_type": "stream",
          "text": [
            "Python 3.7.10\n"
          ],
          "name": "stdout"
        }
      ]
    },
    {
      "cell_type": "code",
      "metadata": {
        "colab": {
          "base_uri": "https://localhost:8080/"
        },
        "id": "ZQsdaEalLKzc",
        "outputId": "8eff682d-bf0c-471e-bcb0-e7f41bf8b6f5"
      },
      "source": [
        "import site, pprint\n",
        "pprint.pprint(site.getsitepackages())"
      ],
      "execution_count": 4,
      "outputs": [
        {
          "output_type": "stream",
          "text": [
            "['/usr/local/lib/python3.7/dist-packages',\n",
            " '/usr/lib/python3/dist-packages',\n",
            " '/usr/lib/python3.7/dist-packages']\n"
          ],
          "name": "stdout"
        }
      ]
    },
    {
      "cell_type": "code",
      "metadata": {
        "colab": {
          "base_uri": "https://localhost:8080/"
        },
        "id": "sH9iLHuxLML9",
        "outputId": "2c5ac1d1-f880-4ea7-a672-9730b911439b"
      },
      "source": [
        "!python -m site --user-site"
      ],
      "execution_count": 5,
      "outputs": [
        {
          "output_type": "stream",
          "text": [
            "/root/.local/lib/python3.7/site-packages\n"
          ],
          "name": "stdout"
        }
      ]
    },
    {
      "cell_type": "code",
      "metadata": {
        "colab": {
          "base_uri": "https://localhost:8080/"
        },
        "id": "HaHgugc6LN4m",
        "outputId": "f63c0037-c285-4ce7-e8a2-1d87888cf328"
      },
      "source": [
        "!pip install lime==0.2.0.1"
      ],
      "execution_count": 6,
      "outputs": [
        {
          "output_type": "stream",
          "text": [
            "Requirement already satisfied: lime==0.2.0.1 in /usr/local/lib/python3.7/dist-packages (0.2.0.1)\n",
            "Requirement already satisfied: tqdm in /usr/local/lib/python3.7/dist-packages (from lime==0.2.0.1) (4.41.1)\n",
            "Requirement already satisfied: matplotlib in /usr/local/lib/python3.7/dist-packages (from lime==0.2.0.1) (3.2.2)\n",
            "Requirement already satisfied: scikit-image>=0.12 in /usr/local/lib/python3.7/dist-packages (from lime==0.2.0.1) (0.16.2)\n",
            "Requirement already satisfied: scipy in /usr/local/lib/python3.7/dist-packages (from lime==0.2.0.1) (1.4.1)\n",
            "Requirement already satisfied: numpy in /usr/local/lib/python3.7/dist-packages (from lime==0.2.0.1) (1.19.5)\n",
            "Requirement already satisfied: scikit-learn>=0.18 in /usr/local/lib/python3.7/dist-packages (from lime==0.2.0.1) (0.22.2.post1)\n",
            "Requirement already satisfied: kiwisolver>=1.0.1 in /usr/local/lib/python3.7/dist-packages (from matplotlib->lime==0.2.0.1) (1.3.1)\n",
            "Requirement already satisfied: python-dateutil>=2.1 in /usr/local/lib/python3.7/dist-packages (from matplotlib->lime==0.2.0.1) (2.8.1)\n",
            "Requirement already satisfied: pyparsing!=2.0.4,!=2.1.2,!=2.1.6,>=2.0.1 in /usr/local/lib/python3.7/dist-packages (from matplotlib->lime==0.2.0.1) (2.4.7)\n",
            "Requirement already satisfied: cycler>=0.10 in /usr/local/lib/python3.7/dist-packages (from matplotlib->lime==0.2.0.1) (0.10.0)\n",
            "Requirement already satisfied: imageio>=2.3.0 in /usr/local/lib/python3.7/dist-packages (from scikit-image>=0.12->lime==0.2.0.1) (2.4.1)\n",
            "Requirement already satisfied: pillow>=4.3.0 in /usr/local/lib/python3.7/dist-packages (from scikit-image>=0.12->lime==0.2.0.1) (7.1.2)\n",
            "Requirement already satisfied: PyWavelets>=0.4.0 in /usr/local/lib/python3.7/dist-packages (from scikit-image>=0.12->lime==0.2.0.1) (1.1.1)\n",
            "Requirement already satisfied: networkx>=2.0 in /usr/local/lib/python3.7/dist-packages (from scikit-image>=0.12->lime==0.2.0.1) (2.5.1)\n",
            "Requirement already satisfied: joblib>=0.11 in /usr/local/lib/python3.7/dist-packages (from scikit-learn>=0.18->lime==0.2.0.1) (1.0.1)\n",
            "Requirement already satisfied: six>=1.5 in /usr/local/lib/python3.7/dist-packages (from python-dateutil>=2.1->matplotlib->lime==0.2.0.1) (1.15.0)\n",
            "Requirement already satisfied: decorator<5,>=4.3 in /usr/local/lib/python3.7/dist-packages (from networkx>=2.0->scikit-image>=0.12->lime==0.2.0.1) (4.4.2)\n"
          ],
          "name": "stdout"
        }
      ]
    },
    {
      "cell_type": "code",
      "metadata": {
        "id": "BiRZ2vTDLQi2"
      },
      "source": [
        "!mv lime_tabular.py /usr/local/lib/python3.7/dist-packages/lime/"
      ],
      "execution_count": 7,
      "outputs": []
    },
    {
      "cell_type": "code",
      "metadata": {
        "colab": {
          "base_uri": "https://localhost:8080/"
        },
        "id": "J5SEQzluLRH4",
        "outputId": "29b3b4d7-46a0-437b-8c6e-963d99b432cc"
      },
      "source": [
        "ls /usr/local/lib/python3.7/dist-packages/lime/"
      ],
      "execution_count": 8,
      "outputs": [
        {
          "output_type": "stream",
          "text": [
            "bundle.js       __init__.py      lime_text.py        \u001b[0m\u001b[01;34mutils\u001b[0m/\n",
            "discretize.py   lime_base.py     \u001b[01;34m__pycache__\u001b[0m/        webpack.config.js\n",
            "exceptions.py   lime_image.py    submodular_pick.py  \u001b[01;34mwrappers\u001b[0m/\n",
            "explanation.py  lime_tabular.py  \u001b[01;34mtests\u001b[0m/\n"
          ],
          "name": "stdout"
        }
      ]
    },
    {
      "cell_type": "code",
      "metadata": {
        "id": "Xk4jqCP5o80u"
      },
      "source": [
        "#datasets\n",
        "iris = datasets.load_iris()\n",
        "initial_data = iris.data\n",
        "initial_predictions = iris.target\n",
        "\n",
        "#diabetes = datasets.load_diabetes()\n",
        "#initial_data = diabetes.data\n",
        "#initial_predictions = diabetes.target\n",
        "\n",
        "#digits = datasets.load_digits()\n",
        "#initial_data = digits.data\n",
        "#initial_predictions = digits.target\n",
        "\n",
        "#number of dimensions we want the dataset to be reduced to\n",
        "components = 3\n",
        "number_of_neighbours = 50\n",
        "\n",
        "#this sample will be used for visualisation\n",
        "sample = 0"
      ],
      "execution_count": 9,
      "outputs": []
    },
    {
      "cell_type": "code",
      "metadata": {
        "colab": {
          "base_uri": "https://localhost:8080/",
          "height": 964
        },
        "id": "IaCIx7VkP3vh",
        "outputId": "7462335a-3a73-433b-a038-39a780c69558"
      },
      "source": [
        "pca = PCA(n_components=components)\n",
        "pca.fit(initial_data)\n",
        "PCA_Transformed_dataset = pca.fit_transform(initial_data)\n",
        "\n",
        "total_coef, model_transformed_dataset, total_neighbs_np, total_distances = explain(initial_data, initial_predictions, pca.transform, number_of_neighbours, find_Alpha = True, use_LIME_neighbs = False)\n",
        "mae, cosine_s, euc_error = find_error(initial_data, model_transformed_dataset, PCA_Transformed_dataset)\n",
        "visualise(sample, initial_data, total_coef, pca.components_)\n",
        "\n",
        "#new implementations\n",
        "print(\"\")\n",
        "print(\"the visualisation above corresponds to the C1 component of the heatmap, values dont line up exactly because we visualise the reduced space values and not the weights (components) as we do with the heatmap\")\n",
        "create_heatmap(sample, total_coef,  pca.components_)\n",
        "print(\"\")\n",
        "print(\"First reduced sample of PCA =\", PCA_Transformed_dataset[0])\n",
        "normalised_PCA_Transformed_dataset = normalise_(PCA_Transformed_dataset)\n",
        "print(\"\")\n",
        "print(\"First reduced sample of PCA after normalisation =\", normalised_PCA_Transformed_dataset[0])"
      ],
      "execution_count": 10,
      "outputs": [
        {
          "output_type": "stream",
          "text": [
            "mean_absolute_error =  0.03327349273172964\n",
            "cosine error =  0.00010115587765011498\n",
            "euclidean error =  0.06848791453161511\n"
          ],
          "name": "stdout"
        },
        {
          "output_type": "display_data",
          "data": {
            "image/png": "[encoded data removed]",
            "text/plain": [
              "<Figure size 432x432 with 1 Axes>"
            ]
          },
          "metadata": {
            "tags": [],
            "needs_background": "light"
          }
        },
        {
          "output_type": "stream",
          "text": [
            "\n",
            "the visualisation above corresponds to the C1 component of the heatmap, values dont line up exactly because we visualise the reduced space values and not the weights (components) as we do with the heatmap\n"
          ],
          "name": "stdout"
        },
        {
          "output_type": "display_data",
          "data": {
            "image/png": "[encoded data removed]",
            "text/plain": [
              "<Figure size 432x432 with 2 Axes>"
            ]
          },
          "metadata": {
            "tags": [],
            "needs_background": "light"
          }
        },
        {
          "output_type": "stream",
          "text": [
            "\n",
            "First reduced sample of PCA = [-2.68412563  0.31939725 -0.02791483]\n",
            "\n",
            "First reduced sample of PCA after normalisation = [-0.70715921  0.23243004 -0.03672204]\n"
          ],
          "name": "stdout"
        }
      ]
    },
    {
      "cell_type": "code",
      "metadata": {
        "colab": {
          "base_uri": "https://localhost:8080/",
          "height": 455
        },
        "id": "0wui9zLnNl2S",
        "outputId": "903c8d6b-f19d-40d3-bb9c-35d0ead698bc"
      },
      "source": [
        "total_coef, model_transformed_dataset, total_neighbs_np, total_distances = explain(initial_data, initial_predictions, pca.transform, number_of_neighbours, find_Alpha = False, use_LIME_neighbs = True)\n",
        "mae, cosine_s, euc_error = find_error(initial_data, model_transformed_dataset, PCA_Transformed_dataset)\n",
        "visualise(sample, initial_data, total_coef, pca.components_)"
      ],
      "execution_count": 11,
      "outputs": [
        {
          "output_type": "stream",
          "text": [
            "mean_absolute_error =  0.27678367878615834\n",
            "cosine error =  0.026143973441624755\n",
            "euclidean error =  0.5638581537399204\n"
          ],
          "name": "stdout"
        },
        {
          "output_type": "display_data",
          "data": {
            "image/png": "[encoded data removed]",
            "text/plain": [
              "<Figure size 432x432 with 1 Axes>"
            ]
          },
          "metadata": {
            "tags": [],
            "needs_background": "light"
          }
        }
      ]
    },
    {
      "cell_type": "code",
      "metadata": {
        "colab": {
          "base_uri": "https://localhost:8080/",
          "height": 455
        },
        "id": "ifWe7JPxLqEa",
        "outputId": "cb526d31-15c1-4b4c-ccdd-8e0eb2fbc06c"
      },
      "source": [
        "total_coef, model_transformed_dataset, total_neighbs_np, total_distances = explain(initial_data, initial_predictions, pca.transform, number_of_neighbours, find_Alpha = True, use_LIME_neighbs = False)\n",
        "mae, cosine_s, euc_error = find_error(initial_data, model_transformed_dataset, PCA_Transformed_dataset)\n",
        "visualise(sample, initial_data, total_coef, pca.components_)"
      ],
      "execution_count": 12,
      "outputs": [
        {
          "output_type": "stream",
          "text": [
            "mean_absolute_error =  0.03327349273172964\n",
            "cosine error =  0.00010115587765011498\n",
            "euclidean error =  0.06848791453161511\n"
          ],
          "name": "stdout"
        },
        {
          "output_type": "display_data",
          "data": {
            "image/png": "[encoded data removed]",
            "text/plain": [
              "<Figure size 432x432 with 1 Axes>"
            ]
          },
          "metadata": {
            "tags": [],
            "needs_background": "light"
          }
        }
      ]
    },
    {
      "cell_type": "code",
      "metadata": {
        "colab": {
          "base_uri": "https://localhost:8080/",
          "height": 455
        },
        "id": "LK-vQv_8N7nR",
        "outputId": "f0c9694b-54eb-4aa9-9445-b5e86029e0ad"
      },
      "source": [
        "total_coef, model_transformed_dataset, total_neighbs_np, total_distances = explain(initial_data, initial_predictions, pca.transform, number_of_neighbours, find_Alpha = True, use_LIME_neighbs = True)\n",
        "mae, cosine_s, euc_error = find_error(initial_data, model_transformed_dataset, PCA_Transformed_dataset)\n",
        "visualise(sample, initial_data, total_coef, pca.components_)"
      ],
      "execution_count": 13,
      "outputs": [
        {
          "output_type": "stream",
          "text": [
            "mean_absolute_error =  0.43464710233443143\n",
            "cosine error =  0.026244464999049474\n",
            "euclidean error =  0.978678998477691\n"
          ],
          "name": "stdout"
        },
        {
          "output_type": "display_data",
          "data": {
            "image/png": "[encoded data removed]",
            "text/plain": [
              "<Figure size 432x432 with 1 Axes>"
            ]
          },
          "metadata": {
            "tags": [],
            "needs_background": "light"
          }
        }
      ]
    },
    {
      "cell_type": "code",
      "metadata": {
        "id": "DbErjlRSKph4"
      },
      "source": [
        "#X_embedded = TSNE(n_components=components)\n",
        "#X_embedded.fit(initial_data)\n",
        "#Transformed_dataset = X_embedded.fit_transform(initial_data)\n",
        "\n",
        "#total_coef, total_neighbs_np, total_distances = explain(initial_data, initial_predictions, X_embedded.fit_transform, find_Alpha = True, use_LIME_neighbs = False)\n",
        "#mae, cs = find_mean_absolute_error(initial_data, total_coef, Transformed_dataset)"
      ],
      "execution_count": 14,
      "outputs": []
    },
    {
      "cell_type": "code",
      "metadata": {
        "colab": {
          "base_uri": "https://localhost:8080/"
        },
        "id": "vuYJl1fTf5SQ",
        "outputId": "67262f53-114a-4363-e318-2ef80f1e760d"
      },
      "source": [
        "transformer = KernelPCA(n_components=components, kernel='linear')\n",
        "kernel_transformed = transformer.fit(initial_data)\n",
        "kernel_Transformed_dataset = transformer.fit_transform(initial_data)\n",
        "\n",
        "total_coef, model_transformed_dataset, total_neighbs_np, total_distances = explain(initial_data, initial_predictions, kernel_transformed.transform, number_of_neighbours, find_Alpha = True, use_LIME_neighbs = False)\n",
        "mae, cosine_s, euc_error = find_error(initial_data, model_transformed_dataset, kernel_Transformed_dataset)"
      ],
      "execution_count": 15,
      "outputs": [
        {
          "output_type": "stream",
          "text": [
            "mean_absolute_error =  0.03327349273172934\n",
            "cosine error =  0.00010115587765009723\n",
            "euclidean error =  0.06848791453161139\n"
          ],
          "name": "stdout"
        }
      ]
    },
    {
      "cell_type": "code",
      "metadata": {
        "colab": {
          "base_uri": "https://localhost:8080/",
          "height": 455
        },
        "id": "N3-4kxKklb49",
        "outputId": "d3efd403-9d08-4cfc-a91c-56e1bbec3eb6"
      },
      "source": [
        "transformer = FastICA(n_components=components, random_state=0)\n",
        "transformer.fit(initial_data)\n",
        "Transformed_dataset = transformer.fit_transform(initial_data)\n",
        "\n",
        "total_coef, model_transformed_dataset, total_neighbs_np, total_distances = explain(initial_data, initial_predictions, transformer.transform, number_of_neighbours, find_Alpha = True, use_LIME_neighbs = False)\n",
        "mae, cosine_s, euc_error = find_error(initial_data, model_transformed_dataset, Transformed_dataset)\n",
        "visualise(sample, initial_data, total_coef, transformer.components_)"
      ],
      "execution_count": 16,
      "outputs": [
        {
          "output_type": "stream",
          "text": [
            "mean_absolute_error =  0.0035178435399862134\n",
            "cosine error =  0.001894164094940863\n",
            "euclidean error =  0.007215616359426358\n"
          ],
          "name": "stdout"
        },
        {
          "output_type": "display_data",
          "data": {
            "image/png": "[encoded data removed]",
            "text/plain": [
              "<Figure size 432x432 with 1 Axes>"
            ]
          },
          "metadata": {
            "tags": [],
            "needs_background": "light"
          }
        }
      ]
    },
    {
      "cell_type": "code",
      "metadata": {
        "colab": {
          "base_uri": "https://localhost:8080/"
        },
        "id": "6w2KSH_1ncHg",
        "outputId": "e90fe09b-55fd-499d-8801-f68bbbef2651"
      },
      "source": [
        "#initial data should not contain negative values\n",
        "#this dataset had negative values so i didnt run this cell\n",
        "\n",
        "model = NMF(n_components=components, random_state=0)\n",
        "model.fit(initial_data)\n",
        "Transformed_dataset = model.fit_transform(initial_data)\n",
        "\n",
        "total_coef, model_transformed_dataset, total_neighbs_np, total_distances = explain(initial_data, initial_predictions, model.transform, number_of_neighbours, find_Alpha = True, use_LIME_neighbs = False)\n",
        "mae, cosine_s, euc_error = find_error(initial_data, model_transformed_dataset, Transformed_dataset)\n"
      ],
      "execution_count": 17,
      "outputs": [
        {
          "output_type": "stream",
          "text": [
            "mean_absolute_error =  0.4263642278196312\n",
            "cosine error =  0.6348679578745037\n",
            "euclidean error =  0.8367543024365107\n"
          ],
          "name": "stdout"
        }
      ]
    },
    {
      "cell_type": "code",
      "metadata": {
        "colab": {
          "base_uri": "https://localhost:8080/"
        },
        "id": "9c3N-sfhonYk",
        "outputId": "c17946a0-9e3c-4a90-a4cb-f8c9c5e777d5"
      },
      "source": [
        "# i got the same issue as the NMF, the current initial data contained \n",
        "lda = LatentDirichletAllocation(n_components=components, random_state=0)\n",
        "lda.fit(initial_data)\n",
        "Transformed_dataset = lda.fit_transform(initial_data)\n",
        "\n",
        "\n",
        "total_coef, model_transformed_dataset, total_neighbs_np, total_distances = explain(initial_data, initial_predictions, lda.transform, number_of_neighbours, find_Alpha = True, use_LIME_neighbs = False)\n",
        "mae, cosine_s, euc_error = find_error(initial_data, model_transformed_dataset, Transformed_dataset)"
      ],
      "execution_count": 18,
      "outputs": [
        {
          "output_type": "stream",
          "text": [
            "mean_absolute_error =  0.3333333333333334\n",
            "cosine error =  0.7989360242972499\n",
            "euclidean error =  0.9398711919176734\n"
          ],
          "name": "stdout"
        }
      ]
    }
  ]
}